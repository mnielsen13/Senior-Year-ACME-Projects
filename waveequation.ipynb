{
 "cells": [
  {
   "cell_type": "markdown",
   "metadata": {
    "collapsed": true
   },
   "source": [
    "# Wave Equation\n",
    "\n",
    "## Maxwell\n",
    "\n",
    "## Section 001\n",
    "\n",
    "## 11/3/2022"
   ]
  },
  {
   "cell_type": "code",
   "execution_count": 1,
   "metadata": {},
   "outputs": [],
   "source": [
    "import numpy as np\n",
    "import matplotlib.pyplot as plt\n",
    "from matplotlib import animation as ani\n",
    "from scipy.linalg import toeplitz\n",
    "import scipy.optimize"
   ]
  },
  {
   "cell_type": "markdown",
   "metadata": {},
   "source": [
    "# Problem 1\n",
    "Numerically approximate the solution to the following BVP\n",
    "\n",
    "$$\n",
    "u_{tt} = u_{xx} \\\\\n",
    "u(0,t) = u(1,t) = 0, \\\\\n",
    "u(x,0) = \\sin(2\\pi x), \\\\\n",
    "u_t(x,0) = 0. \n",
    "$$\n",
    "\n",
    "Numerically approximate the solution $u(x,t)$ for $t\\in[0,5]$. Use $J=50$ subintervals in the $x$ dimension and $M=50$ subintervals in the $t$ dimension. Animate the results. Compare you results with the analytic solution $u(x,t) = \\sin(2\\pi x)\\cos(2\\pi t).$ This function is know as a standing wave."
   ]
  },
  {
   "cell_type": "code",
   "execution_count": 3,
   "metadata": {},
   "outputs": [
    {
     "data": {
      "image/png": "[encoded data removed]",
      "text/plain": [
       "<Figure size 432x288 with 1 Axes>"
      ]
     },
     "metadata": {
      "needs_background": "light"
     },
     "output_type": "display_data"
    }
   ],
   "source": [
    "plt.ioff()\n",
    "#define the parameters of the problem\n",
    "M = 50\n",
    "J = 50\n",
    "x = np.linspace(0,1,J+1)\n",
    "t = np.linspace(0,5,M+1)\n",
    "deltax = 1/J\n",
    "deltat = .5/M\n",
    "\n",
    "#define f from the pde\n",
    "f = lambda x: np.sin(2*np.pi*x)\n",
    "\n",
    "lam = 1 * deltat / deltax\n",
    "\n",
    "#define g from the pde\n",
    "g = lambda x: np.zeros_like(x)\n",
    "\n",
    "#construct our A matrix\n",
    "diag_one = np.diag(np.ones(J)*lam**2,k=1)\n",
    "diag_two = np.diag(np.ones(J)*lam**2,k=-1)\n",
    "diag_three = np.diag(np.ones(J+1)*2*(1-lam**2))\n",
    "\n",
    "A = diag_one + diag_two + diag_three\n",
    "\n",
    "#Construct our U matrix using the system given in the lab file\n",
    "U = np.zeros((J+1, M+1))\n",
    "\n",
    "U[0][1:-1] = f(x[1:-1])\n",
    "U[1][1:J] = [U[0][j] + g(x[j])*deltat + .5*lam**2 * (U[0][j-1] - 2*U[0][j] + U[0][j+1]) for j in range(1, J)]\n",
    "\n",
    "for i in range(2, M+1):\n",
    "    U[i]= A@U[i-1] - U[i-2]\n",
    "    U[i,0], U[i,-1] = 0, 0\n",
    "\n",
    "#animate the rows (time solutions) of U\n",
    "fig = plt.figure()\n",
    "ax = fig.add_subplot(111)\n",
    "ax.set_xlim((0,1))\n",
    "ax.set_ylim((-1,1))\n",
    "traj, = plt.plot([], [], color = 'r', alpha=.5)\n",
    "trajsol, = plt.plot([], [], color = 'b', alpha=.5)\n",
    "\n",
    "an_sol = lambda x, t: np.sin(2*np.pi*x)*np.cos(np.pi*2*t)\n",
    "def update(i):\n",
    "    traj.set_data(x,U[i])    #create our update function\n",
    "    #trajsol.set_data(x, an_sol(x[i], t[i]))\n",
    "    return traj\n",
    "    \n",
    "wave_anime = ani.FuncAnimation(fig, update, frames=range(M), interval=100)\n",
    "wave_anime.save(\"problem1.mp4\")"
   ]
  },
  {
   "cell_type": "markdown",
   "metadata": {},
   "source": [
    " <video src='problem1.mp4' controls>"
   ]
  },
  {
   "cell_type": "markdown",
   "metadata": {},
   "source": [
    "# Problem 2\n",
    "\n",
    "Consider the boundary value problem \n",
    "\n",
    "$$\n",
    "u_{tt} = u_{xx}, \\\\\n",
    "u(0,t) = u(1,t) = 0, \\\\\n",
    "u(x,0) = 0.2e^{-,^2(x-1/2)^2} \\\\\n",
    "y_t(x,0) = 0.4m^2(x-\\frac{1}{2})e^{-m^2(x-1/2)^2}.\n",
    "$$\n",
    "\n",
    "The solution of this problem is ta Gaussian pulse. It travels to the right at a constant speed. This solution models, for example, a wave pulse in a stretched string. Note that the fixed boundart conditions reflect the pulse back when it meets the boundary.\n",
    "\n",
    "Numerically approximate the solution $u(x,t)$ for $t\\in[0,1]$. Set $m=20$. Use 200 subintervals in space and 220 in time, and animate your results. Then use 200 subintervals in space and 180 in time, and animate your results. Note that the stability condition is not satisfied for the second mesh."
   ]
  },
  {
   "cell_type": "code",
   "execution_count": 111,
   "metadata": {},
   "outputs": [
    {
     "data": {
      "image/png": "[encoded data removed]",
      "text/plain": [
       "<Figure size 432x288 with 1 Axes>"
      ]
     },
     "metadata": {
      "needs_background": "light"
     },
     "output_type": "display_data"
    }
   ],
   "source": [
    "plt.ioff()\n",
    "#define our parameters for the problem\n",
    "m = 20\n",
    "M = 220\n",
    "J = 200\n",
    "x = np.linspace(0,1,J+1)\n",
    "t = np.linspace(0,1,M+1)\n",
    "deltax = 1/J\n",
    "deltat = 1/M\n",
    "\n",
    "#define f from the pde\n",
    "f = lambda x: .2*np.exp(-m**2*(x-1/2)**2)\n",
    "lam = 1 * deltat / deltax\n",
    "\n",
    "#define g from the pde\n",
    "g = lambda x: .4*m**2*(x-1/2)*np.exp(-m**2*(x-1/2)**2)\n",
    "\n",
    "#construct our A matrix\n",
    "diag_one = np.diag(np.ones(J)*lam**2,k=1)\n",
    "diag_two = np.diag(np.ones(J)*lam**2,k=-1)\n",
    "diag_three = np.diag(np.ones(J+1)*2*(1-lam**2))\n",
    "\n",
    "A = diag_one + diag_two + diag_three\n",
    "\n",
    "#Construct our U matrix\n",
    "U = np.zeros((M+1, J+1))\n",
    "\n",
    "U[0][1:-1] = f(x[1:-1])\n",
    "U[1][1:J] = [U[0][j] + g(x[j])*deltat + .5*lam**2 * (U[0][j-1] - 2*U[0][j] + U[0][j+1]) for j in range(1, J)]\n",
    "\n",
    "for i in range(2, M+1):\n",
    "    U[i]= A@U[i-1] - U[i-2]\n",
    "    U[i,0], U[i,-1] = 0, 0\n",
    "\n",
    "#animate each row (time solution) of U\n",
    "fig = plt.figure()\n",
    "ax = fig.add_subplot(111)\n",
    "ax.set_xlim((0,1))\n",
    "ax.set_ylim((-1.2,1.2))\n",
    "traj, = plt.plot([], [], color = 'r', alpha=.5)\n",
    "\n",
    "def update(i):\n",
    "    traj.set_data(x,U[i])    #create our update function\n",
    "    return traj\n",
    "    \n",
    "wave_anime = ani.FuncAnimation(fig, update, frames=range(M), interval=100)\n",
    "wave_anime.save(\"problem21.mp4\")"
   ]
  },
  {
   "cell_type": "markdown",
   "metadata": {},
   "source": [
    " <video src='problem21.mp4' controls>"
   ]
  },
  {
   "cell_type": "code",
   "execution_count": 112,
   "metadata": {},
   "outputs": [
    {
     "data": {
      "image/png": "[encoded data removed]",
      "text/plain": [
       "<Figure size 432x288 with 1 Axes>"
      ]
     },
     "metadata": {
      "needs_background": "light"
     },
     "output_type": "display_data"
    }
   ],
   "source": [
    "plt.ioff()\n",
    "#define our parameters for the problem\n",
    "m = 20\n",
    "M = 180\n",
    "J = 200\n",
    "x = np.linspace(0,1,J+1)\n",
    "t = np.linspace(0,1,M+1)\n",
    "deltax = 1/J\n",
    "deltat = 1/M\n",
    "\n",
    "#define f from the pde\n",
    "f = lambda x: .2*np.exp(-m**2*(x-1/2)**2)\n",
    "lam = 1 * deltat / deltax\n",
    "\n",
    "#define g from the pde\n",
    "g = lambda x: .4*m**2*(x-1/2)*np.exp(-m**2*(x-1/2)**2)\n",
    "\n",
    "#construct our A matrix\n",
    "diag_one = np.diag(np.ones(J)*lam**2,k=1)\n",
    "diag_two = np.diag(np.ones(J)*lam**2,k=-1)\n",
    "diag_three = np.diag(np.ones(J+1)*2*(1-lam**2))\n",
    "\n",
    "A = diag_one + diag_two + diag_three\n",
    "\n",
    "#use the system from the lab file to construct U\n",
    "U = np.zeros((M+1, J+1))\n",
    "\n",
    "U[0][1:-1] = f(x[1:-1])\n",
    "U[1][1:J] = [U[0][j] + g(x[j])*deltat + .5*lam**2 * (U[0][j-1] - 2*U[0][j] + U[0][j+1]) for j in range(1, J)]\n",
    "\n",
    "for i in range(2, M+1):\n",
    "    U[i]= A@U[i-1] - U[i-2]\n",
    "    U[i,0], U[i,-1] = 0, 0\n",
    "\n",
    "#animate each row of U\n",
    "fig = plt.figure()\n",
    "ax = fig.add_subplot(111)\n",
    "ax.set_xlim((0,1))\n",
    "ax.set_ylim((-1.2,1.2))\n",
    "traj, = plt.plot([], [], color = 'r', alpha=.5)\n",
    "\n",
    "def update(i):\n",
    "    traj.set_data(x,U[i])    #create our update function\n",
    "    return traj\n",
    "    \n",
    "wave_anime = ani.FuncAnimation(fig, update, frames=range(M), interval=100)\n",
    "wave_anime.save(\"problem22.mp4\")"
   ]
  },
  {
   "cell_type": "markdown",
   "metadata": {},
   "source": [
    " <video src='problem22.mp4' controls>"
   ]
  },
  {
   "cell_type": "markdown",
   "metadata": {},
   "source": [
    "# Problem 3\n",
    "\n",
    "Consider the initial boundary value problem\n",
    "$$\n",
    "\tu_{tt} = u_{xx}, \\\\\n",
    "\tu(0,t) = u(1,t) = 0, \\\\\n",
    "\tu(x,0) = 0.2e^{-m^2(x-1/2)^2}\\\\\n",
    "\tu_t(x,0) = 0.\n",
    "$$\n",
    "The initial condition separates into two smaller, slower-moving pulses, one travelling to the right and the other to the left.\n",
    "This solution models, for example, a plucked guitar string\n",
    "\n",
    "Numerically approximate the solution $u(x,t)$ for $t \\in \\left[0,2\\right]$.\n",
    "Set $m=20$.\n",
    "Use 200 subintervals in space and 440 in time, and animate your results.\n",
    "It is rather easy to see that the solution to this problem is the sum of two travelling waves, one travelling to the left and the other to the right, as described earlier."
   ]
  },
  {
   "cell_type": "code",
   "execution_count": 113,
   "metadata": {},
   "outputs": [
    {
     "data": {
      "image/png": "[encoded data removed]",
      "text/plain": [
       "<Figure size 432x288 with 1 Axes>"
      ]
     },
     "metadata": {
      "needs_background": "light"
     },
     "output_type": "display_data"
    }
   ],
   "source": [
    "plt.ioff()\n",
    "#define our parameters for the problem\n",
    "m = 20\n",
    "M = 440\n",
    "J = 200\n",
    "x = np.linspace(0,1,J+1)\n",
    "t = np.linspace(0,2,M+1)\n",
    "deltax = 1/J\n",
    "deltat = 2/M\n",
    "\n",
    "#define f from the pde\n",
    "f = lambda x: .2*np.exp(-m**2*(x-1/2)**2)\n",
    "lam = 1 * deltat / deltax\n",
    "\n",
    "#define g from the pde\n",
    "g = lambda x: np.zeros_like(x)\n",
    "\n",
    "#construct our A matrix\n",
    "diag_one = np.diag(np.ones(J)*lam**2,k=1)\n",
    "diag_two = np.diag(np.ones(J)*lam**2,k=-1)\n",
    "diag_three = np.diag(np.ones(J+1)*2*(1-lam**2))\n",
    "\n",
    "A = diag_one + diag_two + diag_three\n",
    "\n",
    "#construct our U matrix using the system in the file\n",
    "U = np.zeros((M+1, J+1))\n",
    "\n",
    "U[0][1:-1] = f(x[1:-1])\n",
    "U[1][1:J] = [U[0][j] + g(x[j])*deltat + .5*lam**2 * (U[0][j-1] - 2*U[0][j] + U[0][j+1]) for j in range(1, J)]\n",
    "\n",
    "#animate each row of U\n",
    "for i in range(2, M+1):\n",
    "    U[i]= A@U[i-1] - U[i-2]\n",
    "    U[i,0], U[i,-1] = 0, 0\n",
    "\n",
    "fig = plt.figure()\n",
    "ax = fig.add_subplot(111)\n",
    "ax.set_xlim((0,1))\n",
    "ax.set_ylim((-1.2,1.2))\n",
    "traj, = plt.plot([], [], color = 'r', alpha=.5)\n",
    "\n",
    "def update(i):\n",
    "    traj.set_data(x,U[i])    #create our update function\n",
    "    return traj\n",
    "    \n",
    "wave_anime = ani.FuncAnimation(fig, update, frames=range(M), interval=100)\n",
    "wave_anime.save(\"problem3.mp4\")"
   ]
  },
  {
   "cell_type": "markdown",
   "metadata": {},
   "source": [
    " <video src='problem3.mp4' controls>"
   ]
  },
  {
   "cell_type": "markdown",
   "metadata": {},
   "source": [
    "# Problem 4\n",
    "\n",
    "Consider the initial boundary value problem\n",
    "\n",
    "$$\n",
    "\tu_{tt} = u_{xx}, \\\\\n",
    "\tu(0,t) = u(1,t) = 0, \\\\\n",
    "\tu(x,0) = \\begin{cases} 1/3 & \\text{if } 5/11 < x < 6/11,\\\\\n",
    "\t0 & \\text{otherwise}\n",
    "\t\\end{cases}\\\\\n",
    "\tu_t(x,0) = 0.\n",
    "$$\n",
    "\n",
    "Numerically approximate the solution $u(x,t)$ for $t \\in \\left[0, 2\\right]$.\n",
    "Use 200 subintervals in space and 440 in time, and animate your results.\n",
    "Even though the method is second order and stable for this discretization, since the initial condition is discontinuous there are large dispersive errors."
   ]
  },
  {
   "cell_type": "code",
   "execution_count": 114,
   "metadata": {},
   "outputs": [
    {
     "data": {
      "image/png": "[encoded data removed]",
      "text/plain": [
       "<Figure size 432x288 with 1 Axes>"
      ]
     },
     "metadata": {
      "needs_background": "light"
     },
     "output_type": "display_data"
    }
   ],
   "source": [
    "plt.ioff()\n",
    "#define our parameters for the problem\n",
    "m = 20\n",
    "M = 440\n",
    "J = 200\n",
    "x = np.linspace(0,1,J+1)\n",
    "t = np.linspace(0,2,M+1)\n",
    "deltax = 1/J\n",
    "deltat = 2/M\n",
    "\n",
    "#define f from the pde\n",
    "f = lambda x: np.piecewise(x, [((x > 5/11) & (x < 6/11)), ((x <= 5/11) | (x >= 6/11))], [1/3, 0])\n",
    "lam = 1 * deltat / deltax\n",
    "\n",
    "#define g from the pde\n",
    "g = lambda x: np.zeros_like(x)\n",
    "\n",
    "#construct our A matrix\n",
    "diag_one = np.diag(np.ones(J)*lam**2,k=1)\n",
    "diag_two = np.diag(np.ones(J)*lam**2,k=-1)\n",
    "diag_three = np.diag(np.ones(J+1)*2*(1-lam**2))\n",
    "\n",
    "A = diag_one + diag_two + diag_three\n",
    "\n",
    "#construct U from the system in the file\n",
    "U = np.zeros((M+1, J+1))\n",
    "\n",
    "U[0][1:-1] = f(x[1:-1])\n",
    "U[1][1:J] = [U[0][j] + g(x[j])*deltat + .5*lam**2 * (U[0][j-1] - 2*U[0][j] + U[0][j+1]) for j in range(1, J)]\n",
    "\n",
    "for i in range(2, M+1):\n",
    "    U[i]= A@U[i-1] - U[i-2]\n",
    "    U[i,0], U[i,-1] = 0, 0\n",
    "\n",
    "#animate each row of U\n",
    "fig = plt.figure()\n",
    "ax = fig.add_subplot(111)\n",
    "ax.set_xlim((0,1))\n",
    "ax.set_ylim((-1.2,1.2))\n",
    "traj, = plt.plot([], [], color = 'r', alpha=.5)\n",
    "\n",
    "def update(i):\n",
    "    traj.set_data(x,U[i])    #create our update function\n",
    "    return traj\n",
    "    \n",
    "wave_anime = ani.FuncAnimation(fig, update, frames=range(M), interval=100)\n",
    "wave_anime.save(\"problem4.mp4\")"
   ]
  },
  {
   "cell_type": "markdown",
   "metadata": {},
   "source": [
    " <video src='problem4.mp4' controls>"
   ]
  },
  {
   "cell_type": "markdown",
   "metadata": {},
   "source": [
    "# Problem 5\n",
    "\n",
    "\n",
    "Numerically solve the initial value problem\n",
    "\n",
    "$$\n",
    "\tu_t -su_x + uu_x = u_{xx}, \\quad x \\in (-\\infty,\\infty),\\\\\n",
    "\tu(x,0) = v(x),\n",
    "$$\n",
    "\n",
    "for $t \\in [0,1]$.\n",
    "Let the perturbation $v(x)$ be given by\n",
    "\n",
    "$$\n",
    "v(x) = 3.5(\\sin{(3x)} + 1)\\frac{1}{\\sqrt{2\\pi}} \\exp{(-x^2/2)}\n",
    "$$\n",
    "\n",
    "And let the initial condition be $u(x, 0) = \\hat{u}(x) + v(x)$\n",
    "Approximate the $x$ domain,$(-\\infty, \\infty)$, numerically by the finite interval $[-20,20]$, and fix $u(-20) = u_-$, $u(20) = u_+$. Let $u_- = 5$, $u_+ = 1$.\n",
    "Use 150 intervals in space and 350 steps in time.\n",
    "Animate your results.\n",
    "You should see the solution converge to a translate of the travelling wave $\\hat{u}$.\n",
    "\n",
    "Hint: This difference scheme is no longer a linear equation.\n",
    "We have a nonlinear equation in $U^{n+1}$.\n",
    "We can still solve this function using Newton's method or some other similar solver.\n",
    "In this case, use `scipy.optimize.fsolve`."
   ]
  },
  {
   "cell_type": "code",
   "execution_count": 116,
   "metadata": {},
   "outputs": [
    {
     "data": {
      "image/png": "[encoded data removed]",
      "text/plain": [
       "<Figure size 432x288 with 1 Axes>"
      ]
     },
     "metadata": {
      "needs_background": "light"
     },
     "output_type": "display_data"
    }
   ],
   "source": [
    "#define the parameters for the problem\n",
    "M = 350\n",
    "J = 150\n",
    "deltax = 40 / J\n",
    "deltat = 1 / M\n",
    "x = np.linspace(-20, 20, J+1)\n",
    "k1 = deltat / (4 * deltax)\n",
    "k2 = deltat /(2 * deltax**2)\n",
    "um = 5\n",
    "up = 1\n",
    "s = (um + up) / 2\n",
    "a = (um - up) / 2\n",
    "\n",
    "#start to construct our U matrix\n",
    "U = np.zeros((M+1, J+1))\n",
    "U[0,0] = um\n",
    "U[0,-1] = up\n",
    "\n",
    "#define v and uhat from the pde\n",
    "v = lambda x: 7/2 * (np.sin(3*x) + 1) * (1/np.sqrt(2*np.pi)) * np.exp(-.5*x**2)\n",
    "uhat = lambda x: s - a*np.tanh(a*x/2)\n",
    "\n",
    "#create the first row of U\n",
    "U[0][1:J+1] = [uhat(xj) + v(xj) for xj in x[1:J+1]]\n",
    "\n",
    "#f0 is our initial guess in fsolve\n",
    "f0 = U[0]\n",
    "\n",
    "#define a function using the Crank-Nicolson method that will allow us to find the proper roots using fsolve\n",
    "def crank_nic(u1,u0,k1,k2,s):\n",
    "    ncols = u1.shape[-1]\n",
    "    root_eq = [u1[i] - u0[i] - k1*((s-u1[i])*(u1[i+1]-u1[i-1]) + (s-u0[i])*(u0[i+1]-u0[i-1])) - k2*((u1[i+1]-2*u1[i] + u1[i-1]) + (u0[i+1]-2*u0[i]+u0[i-1])) for i in range(1, ncols-1)]\n",
    "    root_eq = [u1[0] - u0[0]] + root_eq + [u1[-1] - u0[-1]]\n",
    "    return root_eq\n",
    "\n",
    "#find the roots of each modified Crank-Nicolson equation to find the rows of U\n",
    "for i in range(1, M+1):\n",
    "    U[i] = scipy.optimize.fsolve(crank_nic, f0, args=(U[i-1], k1, k2, s))\n",
    "    \n",
    "# plt.plot(x, U[-1])\n",
    "# plt.show()\n",
    "\n",
    "#animate each row of U\n",
    "fig = plt.figure()\n",
    "ax = fig.add_subplot(111)\n",
    "ax.set_xlim((-20,20))\n",
    "ax.set_ylim((0,6))\n",
    "traj, = plt.plot([],[],color='r', alpha=0.5)\n",
    "def update(i):\n",
    "    traj.set_data(x,U[i])    #create our update function\n",
    "    return traj\n",
    "    \n",
    "cn_ani = ani.FuncAnimation(fig, update, frames=range(M), interval=100)\n",
    "cn_ani.save(\"problem5.mp4\")"
   ]
  },
  {
   "cell_type": "markdown",
   "metadata": {},
   "source": [
    "<video src='problem5.mp4' controls>"
   ]
  }
 ],
 "metadata": {
  "kernelspec": {
   "display_name": "Python 3 (ipykernel)",
   "language": "python",
   "name": "python3"
  },
  "language_info": {
   "codemirror_mode": {
    "name": "ipython",
    "version": 3
   },
   "file_extension": ".py",
   "mimetype": "text/x-python",
   "name": "python",
   "nbconvert_exporter": "python",
   "pygments_lexer": "ipython3",
   "version": "3.10.5"
  }
 },
 "nbformat": 4,
 "nbformat_minor": 1
}
