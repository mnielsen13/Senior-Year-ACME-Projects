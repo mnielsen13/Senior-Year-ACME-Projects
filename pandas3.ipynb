{
 "cells": [
  {
   "cell_type": "markdown",
   "metadata": {
    "colab_type": "text",
    "id": "bW431NWpWQvg"
   },
   "source": [
    "# Pandas 3\n",
    "### Maxwell Nielsen\n",
    "### Section 001\n",
    "### 9/13/2022"
   ]
  },
  {
   "cell_type": "code",
   "execution_count": 1,
   "metadata": {
    "colab": {},
    "colab_type": "code",
    "id": "SUIQR8wua0n-"
   },
   "outputs": [],
   "source": [
    "import pandas as pd\n",
    "import numpy as np\n",
    "import matplotlib.pyplot as plt"
   ]
  },
  {
   "cell_type": "markdown",
   "metadata": {
    "colab_type": "text",
    "id": "WtvM7fKitmn0"
   },
   "source": [
    "# Problem 1"
   ]
  },
  {
   "cell_type": "code",
   "execution_count": 2,
   "metadata": {
    "colab": {},
    "colab_type": "code",
    "id": "UnY5vviOBe8s"
   },
   "outputs": [],
   "source": [
    "def prob1():\n",
    "    \"\"\"\n",
    "    Use groupby objects to determine information about private\n",
    "    and public universities.\n",
    "    Specifically examine the columns 'S.F.Ratio', 'Top10perc',\n",
    "    and 'Top25perc'.\n",
    "    For each column return the values of the describe function\n",
    "    for the type of university with the higher mean.\n",
    "    \n",
    "    Return:\n",
    "        ans_1 (ndarray): describe array of universities with \n",
    "                         higher S.F.Ratio\n",
    "        ans_2 (ndarray): describe array of universities with\n",
    "                         more students from Top10perc\n",
    "        ans_3 (ndarray): describe array of universities with\n",
    "                         more students from Top25perc\n",
    "    \"\"\"\n",
    "    college_inf = pd.read_csv(\"college.csv\")                 #read in the college data\n",
    "    enroll_type = college_inf.groupby(\"Private\")             #group by type of enrollment\n",
    "    \n",
    "    private = enroll_type.get_group(\"Yes\")\n",
    "    public = enroll_type.get_group(\"No\")\n",
    "    \n",
    "    private_sf_inf = private[\"S.F.Ratio\"].describe().values     #get the stat values of the sf ratio for each\n",
    "    public_sf_inf = public[\"S.F.Ratio\"].describe().values\n",
    "    \n",
    "    if private_sf_inf[1] > public_sf_inf[1]:             #find the type with higher mean\n",
    "        ans_1 = private_sf_inf\n",
    "    else:\n",
    "        ans_1 = public_sf_inf\n",
    "        \n",
    "    private_tp10_inf = private[\"Top10perc\"].describe().values\n",
    "    public_tp10_inf = public[\"Top10perc\"].describe().values     #get stat values of top10perc for each\n",
    "    \n",
    "    if private_tp10_inf[1] > public_tp10_inf[1]:\n",
    "        ans_2 = private_tp10_inf\n",
    "    else:\n",
    "        ans_2 = public_tp10_inf          #find type with higher mean\n",
    "        \n",
    "    private_tp25_inf = private[\"Top25perc\"].describe().values\n",
    "    public_tp25_inf = public[\"Top25perc\"].describe().values           #get stat values of top25perc for each\n",
    "     \n",
    "    if private_tp25_inf[1] > public_tp25_inf[1]:\n",
    "        ans_3 = private_tp25_inf\n",
    "    else:\n",
    "        ans_3 = public_tp25_inf        #find type with higher mean\n",
    "        \n",
    "    return ans_1, ans_2, ans_3\n",
    "        \n",
    "    "
   ]
  },
  {
   "cell_type": "code",
   "execution_count": 3,
   "metadata": {},
   "outputs": [
    {
     "data": {
      "text/plain": [
       "(array([212.        ,  17.13915094,   3.41804873,   6.7       ,\n",
       "         15.1       ,  17.25      ,  19.325     ,  28.8       ]),\n",
       " array([565.        ,  29.33097345,  17.85139147,   1.        ,\n",
       "         17.        ,  25.        ,  36.        ,  96.        ]),\n",
       " array([565.        ,  56.95752212,  19.58836048,   9.        ,\n",
       "         42.        ,  55.        ,  70.        , 100.        ]))"
      ]
     },
     "execution_count": 3,
     "metadata": {},
     "output_type": "execute_result"
    }
   ],
   "source": [
    "prob1()"
   ]
  },
  {
   "cell_type": "markdown",
   "metadata": {
    "colab_type": "text",
    "id": "kkl-OwD3tosX"
   },
   "source": [
    "# Problem 2"
   ]
  },
  {
   "cell_type": "code",
   "execution_count": 4,
   "metadata": {
    "colab": {},
    "colab_type": "code",
    "id": "21bBA9dzCNxc"
   },
   "outputs": [],
   "source": [
    "def prob2():\n",
    "    \"\"\"\n",
    "    Use groupby visualizations to compare the following\n",
    "    in private and public universities:\n",
    "        1. Number of applicants, accept applicants, and\n",
    "           enrolled applicants\n",
    "        2. Range of price for room and board\n",
    "    \"\"\"\n",
    "    \n",
    "    college_inf = pd.read_csv(\"college.csv\")                 #read in the college data\n",
    "    enroll_type = college_inf.groupby(\"Private\")             #group by type of enrollment\n",
    "    \n",
    "    private = enroll_type.get_group(\"Yes\")\n",
    "    public = enroll_type.get_group(\"No\")\n",
    "    \n",
    "    college_inf.rename(columns = {'Apps': 'Applied', 'Accept': 'Accepted', 'Enroll':'Enrolled'}, inplace=True)\n",
    "    \n",
    "    enroll_type[[\"Applied\", \"Accepted\", \"Enrolled\"]].mean().plot(kind=\"barh\",  #create a bar graph displaying the info\n",
    "                xerr=enroll_type.std(), title=\"Comparing Types of Schools\")\n",
    "    plt.xlabel(\"Number of Students\")\n",
    "    plt.ylabel('Private')\n",
    "    plt.show()\n",
    "    \n",
    "    college_inf.boxplot([\"Room.Board\"], by=\"Private\", grid=False)    #make a boxplot showing the range of costs\n",
    "    plt.title('Range of Money Spent on Room and Board')\n",
    "    plt.ylabel('Room and Board Costs')\n",
    "    plt.tight_layout()\n",
    "    plt.show()"
   ]
  },
  {
   "cell_type": "code",
   "execution_count": 5,
   "metadata": {},
   "outputs": [
    {
     "data": {
      "image/png": "[encoded data removed]",
      "text/plain": [
       "<Figure size 432x288 with 1 Axes>"
      ]
     },
     "metadata": {
      "needs_background": "light"
     },
     "output_type": "display_data"
    },
    {
     "data": {
      "image/png": "[encoded data removed]",
      "text/plain": [
       "<Figure size 432x288 with 1 Axes>"
      ]
     },
     "metadata": {
      "needs_background": "light"
     },
     "output_type": "display_data"
    }
   ],
   "source": [
    "prob2()"
   ]
  },
  {
   "cell_type": "markdown",
   "metadata": {
    "colab_type": "text",
    "id": "XQJj5O7btqQW"
   },
   "source": [
    "# Problem 3"
   ]
  },
  {
   "cell_type": "code",
   "execution_count": 6,
   "metadata": {
    "colab": {},
    "colab_type": "code",
    "id": "Qs3BS0NKRgo1"
   },
   "outputs": [],
   "source": [
    "def prob3():\n",
    "    \"\"\"\n",
    "    Use Ohio_1999.csv and pivot tables to answer the\n",
    "    following questions\n",
    "        1. Which race/sex combination makes the most money in total?\n",
    "        2. Which race/sex combination worked the least amount of \n",
    "            cumulative hours?\n",
    "        3. What race/sex combination worked the most hours per week per person?\n",
    "    \n",
    "    Returns:\n",
    "        ans_1 (tuple): tuple with race and sex code, respectively\n",
    "        ans_2 (tuple): tuple with race and sex code, respectively\n",
    "        ans_3 (tuple): tuple with race and sex code, respectively\n",
    "    \"\"\"\n",
    "    ohio_inf = pd.read_csv(\"Ohio_1999.csv\")     #read in the data\n",
    "    wk_income = ohio_inf.pivot_table(values=\"Usual Weekly Earnings\", index=\"Race\", columns=\"Sex\", aggfunc=\"sum\")  \n",
    "    ans_1 = wk_income.stack().idxmax()   #create our pivot table and find the max\n",
    "    \n",
    "    wk_income = ohio_inf.pivot_table(values=\"Usual Hours Worked\", index=\"Race\", columns=\"Sex\", aggfunc=\"count\")\n",
    "    ans_2 = wk_income.stack().idxmin()     #create our pivot table and find the min\n",
    "    \n",
    "    wk_income = ohio_inf.pivot_table(values=\"Usual Hours Worked\", index=\"Race\", columns=\"Sex\", aggfunc=\"mean\")\n",
    "    ans_3 = wk_income.stack().idxmax()      #create our pivot table and find the max\n",
    "    \n",
    "    return ans_1, ans_2, ans_3"
   ]
  },
  {
   "cell_type": "code",
   "execution_count": 7,
   "metadata": {},
   "outputs": [
    {
     "data": {
      "text/plain": [
       "((1, 1), (3, 2), (3, 1))"
      ]
     },
     "execution_count": 7,
     "metadata": {},
     "output_type": "execute_result"
    }
   ],
   "source": [
    "prob3()"
   ]
  },
  {
   "cell_type": "markdown",
   "metadata": {
    "colab_type": "text",
    "id": "w0OmwW_VtsAp"
   },
   "source": [
    "# Problem 4"
   ]
  },
  {
   "cell_type": "code",
   "execution_count": 8,
   "metadata": {
    "colab": {},
    "colab_type": "code",
    "id": "in76s4x5iAX9"
   },
   "outputs": [],
   "source": [
    "def prob4():\n",
    "    \"\"\"\n",
    "    Use Ohio_1999.csv to answer the following questions:\n",
    "        1. What is the most common degree among workers?\n",
    "        2. Which age group works the most hours on average?\n",
    "        3. What age/degree combination has the smallest yearly\n",
    "           salary on average?\n",
    "    \n",
    "    Return:\n",
    "        ans_1 (Interval): degree interval\n",
    "        ans_2 (Interval): age interval\n",
    "        ans_3 (Interval, Interval): age interval and degree interval\n",
    "    \"\"\"\n",
    "    ohio_inf = pd.read_csv(\"Ohio_1999.csv\")     #read in the data\n",
    "    degree = pd.cut(ohio_inf['Educational Attainment'], [0, 39, 42, 46])   #create our partition of education\n",
    "    deg = ohio_inf.pivot_table(values=\"Educational Attainment\", index=[degree], aggfunc=\"count\") \n",
    "    ans_1 = deg.sum(axis=1).idxmax()    #create our pivot table and find the max interval\n",
    "    \n",
    "    age = pd.qcut(ohio_inf[\"Age\"], 6)       #create 5 equally spaced age partitions\n",
    "    age_groups = ohio_inf.pivot_table(values=\"Usual Hours Worked\", index=[age], aggfunc=\"mean\")\n",
    "    ans_2 = age_groups.sum(axis=1).idxmax()    #create our pivot table and find the max interval\n",
    "    \n",
    "    both = ohio_inf.pivot_table(values=\"Yearly Salary\", index=[age], columns=[degree], aggfunc=\"mean\")\n",
    "    ans_3 = both.stack().idxmin()       #use both partitions and find the min index\n",
    "    \n",
    "    \n",
    "    \n",
    "    return ans_1, ans_2, ans_3"
   ]
  },
  {
   "cell_type": "code",
   "execution_count": 9,
   "metadata": {},
   "outputs": [
    {
     "data": {
      "text/plain": [
       "(Interval(0, 39, closed='right'),\n",
       " Interval(40.0, 46.0, closed='right'),\n",
       " (Interval(15.999, 29.0, closed='right'), Interval(0, 39, closed='right')))"
      ]
     },
     "execution_count": 9,
     "metadata": {},
     "output_type": "execute_result"
    }
   ],
   "source": [
    "prob4()"
   ]
  },
  {
   "cell_type": "markdown",
   "metadata": {
    "colab_type": "text",
    "id": "p_583lcgtuQv"
   },
   "source": [
    "# Problem 5"
   ]
  },
  {
   "cell_type": "code",
   "execution_count": 10,
   "metadata": {
    "colab": {},
    "colab_type": "code",
    "id": "I8vUMUB4fjHR"
   },
   "outputs": [],
   "source": [
    "def prob5():\n",
    "    \"\"\"\n",
    "    Use pivot tables and groupby objects on the data in\n",
    "    College.csv to answer the following questions:\n",
    "        1. Is there a correlation between the percent of alumni\n",
    "           that donate and the amount the school spends per\n",
    "           student in both private and public universities?\n",
    "        2. Is the graduation rate partition with the greatest\n",
    "           number of schools the same for private and public\n",
    "           universities?\n",
    "        3. Is there an inverse correlation between acceptance\n",
    "           rate and having students from the top 10% of their\n",
    "           high school class?\n",
    "        4. Why is the average percentage of students admitted\n",
    "           from the top 10 percent of their high school class\n",
    "           so high in private universities with very low\n",
    "           acceptance rates? Use only the data to explain why; \n",
    "           do not extrapolate.\n",
    "    \n",
    "    Returns:\n",
    "        ans_1 (bool): answer to question 1\n",
    "        ans_2 (bool): answer to question 2\n",
    "        ans_3 (bool): answer to question 3\n",
    "        ans_4 (str): answer to question 4\n",
    "    \"\"\"\n",
    "    college_inf = pd.read_csv(\"college.csv\")                 #read in the college data\n",
    "    enroll_type = college_inf.groupby(\"Private\")             #group by type of enrollment\n",
    "    \n",
    "    don_correlation = college_inf[['perc.alumni', 'Expend']].corr()\n",
    "    print(don_correlation,'\\n')\n",
    "    ans_1 = False\n",
    "    \n",
    "    a_rates = pd.qcut(college_inf[\"Grad.Rate\"], 5)       #create 5 equally spaced age partitions\n",
    "    acceptance = college_inf.pivot_table(values='Grad.Rate',index=[a_rates], columns='Private',aggfunc=\"count\")\n",
    "    print(acceptance,'\\n')\n",
    "    ans_2 = False\n",
    "    \n",
    "    acc_correlation = college_inf[['Accept', 'Top10perc']].corr()      #create corr matrix between acceptance and being in top 10 percent\n",
    "    print(acc_correlation,'\\n')\n",
    "    ans_3 = False\n",
    "    \n",
    "    college_inf['Acceptance Rate'] = college_inf['Accept'] / college_inf['Apps']\n",
    "    \n",
    "    selective = college_inf[college_inf['Acceptance Rate'] < .35]   #find the distribution of selective schools\n",
    "    print(selective['Private'].value_counts(),'\\n')\n",
    "    ans_4 = 'Out of the 17 schools with acceptance rates of less than 35%, private schools accounted for 16 of them. Private schools can be much more selective and choose better students.'\n",
    "    \n",
    "    return ans_1, ans_2, ans_3, ans_4\n",
    "    \n",
    "    "
   ]
  },
  {
   "cell_type": "code",
   "execution_count": 11,
   "metadata": {},
   "outputs": [
    {
     "name": "stdout",
     "output_type": "stream",
     "text": [
      "             perc.alumni    Expend\n",
      "perc.alumni     1.000000  0.417712\n",
      "Expend          0.417712  1.000000 \n",
      "\n",
      "Private        No  Yes\n",
      "Grad.Rate             \n",
      "(9.999, 51.0]  83   78\n",
      "(51.0, 61.0]   56   98\n",
      "(61.0, 70.0]   40  122\n",
      "(70.0, 81.0]   23  129\n",
      "(81.0, 118.0]  10  138 \n",
      "\n",
      "             Accept  Top10perc\n",
      "Accept     1.000000   0.192447\n",
      "Top10perc  0.192447   1.000000 \n",
      "\n",
      "Yes    16\n",
      "No      1\n",
      "Name: Private, dtype: int64 \n",
      "\n"
     ]
    },
    {
     "data": {
      "text/plain": [
       "(False,\n",
       " False,\n",
       " False,\n",
       " 'Out of the 17 schools with acceptance rates of less than 35%, private schools accounted for 16 of them. Private schools can be much more selective and choose better students.')"
      ]
     },
     "execution_count": 11,
     "metadata": {},
     "output_type": "execute_result"
    }
   ],
   "source": [
    "prob5()"
   ]
  },
  {
   "cell_type": "code",
   "execution_count": null,
   "metadata": {},
   "outputs": [],
   "source": []
  }
 ],
 "metadata": {
  "colab": {
   "collapsed_sections": [],
   "name": "pandas3.ipynb",
   "provenance": [],
   "version": "0.3.2"
  },
  "kernelspec": {
   "display_name": "Python 3 (ipykernel)",
   "language": "python",
   "name": "python3"
  },
  "language_info": {
   "codemirror_mode": {
    "name": "ipython",
    "version": 3
   },
   "file_extension": ".py",
   "mimetype": "text/x-python",
   "name": "python",
   "nbconvert_exporter": "python",
   "pygments_lexer": "ipython3",
   "version": "3.10.5"
  }
 },
 "nbformat": 4,
 "nbformat_minor": 1
}
