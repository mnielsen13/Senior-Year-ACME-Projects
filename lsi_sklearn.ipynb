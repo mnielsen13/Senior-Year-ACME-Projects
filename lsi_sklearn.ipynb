{
 "cells": [
  {
   "cell_type": "markdown",
   "metadata": {},
   "source": [
    "# Finding Patterns in Data\n",
    "## LSI and Scikit-Learn\n",
    "    Maxwell Nielsen\n",
    "    Section 001\n",
    "    10/11/2022"
   ]
  },
  {
   "cell_type": "code",
   "execution_count": 1,
   "metadata": {},
   "outputs": [],
   "source": [
    "import os\n",
    "import string\n",
    "import numpy as np\n",
    "import sklearn\n",
    "from math import log\n",
    "from scipy import sparse\n",
    "from sklearn import datasets\n",
    "from scipy import linalg as la\n",
    "from collections import Counter\n",
    "from matplotlib import pyplot as plt\n",
    "from scipy.sparse import linalg as spla\n",
    "from sklearn.pipeline import Pipeline\n",
    "from sklearn.decomposition import PCA\n",
    "from sklearn.model_selection import GridSearchCV\n",
    "from sklearn.ensemble import RandomForestClassifier\n",
    "from sklearn.neighbors import KNeighborsClassifier\n",
    "from sklearn.preprocessing import StandardScaler\n",
    "from sklearn.model_selection import train_test_split\n",
    "from sklearn.metrics import classification_report\n",
    "from sklearn.metrics import confusion_matrix"
   ]
  },
  {
   "cell_type": "markdown",
   "metadata": {},
   "source": [
    "## Problem 1\n",
    "- Perform PCA on the breast cancer dataset\n",
    "- Graph the first two principal components\n",
    "- Calculate the variance captured by the first two principal components"
   ]
  },
  {
   "cell_type": "code",
   "execution_count": 2,
   "metadata": {},
   "outputs": [],
   "source": [
    "def prob1():\n",
    "    \"\"\"Recreate the plot in Figure 1 by performing \n",
    "    PCA on the breast cancer dataset.\n",
    "    Include in the graph title the amount of variance\n",
    "    captured by the first two principal components.\"\"\"\n",
    "    plt.figure(figsize=((10,6)))\n",
    "    cancer = sklearn.datasets.load_breast_cancer()   #import the data\n",
    "    X = cancer.data\n",
    "    y = cancer.target\n",
    "    \n",
    "    Y = X - np.mean(X, axis=0)   #preprocess the data\n",
    "    \n",
    "    u, e, vt = la.svd(Y)\n",
    "    y_hat = u[:, :2] @ np.diag(e)[:2, :2]     #calculate the svd in the desired way\n",
    "    \n",
    "    malignant = y == 0\n",
    "    mal_mat = y_hat[malignant]\n",
    "    ben_mat = y_hat[~malignant]   #get the malignant and benign vals\n",
    "    \n",
    "    plt.scatter(mal_mat[:,0], mal_mat[:, 1], label='Malignant', color='red', alpha=.3, s=9)\n",
    "    plt.scatter(ben_mat[:, 0], ben_mat[:, 1], label='Benign', color='green', alpha=.3, s=9)  #plot the components\n",
    "    plt.xlabel('First Principle Component')\n",
    "    plt.ylabel('Second Principle Component')\n",
    "    \n",
    "    sum_of_squares = np.sum(e**2)\n",
    "    var1 = (e[0])**2/sum_of_squares\n",
    "    var2 = (e[1])**2/sum_of_squares\n",
    "    var = var1+var2   #calculate the variace captured by the first two components\n",
    "    \n",
    "    plt.title('Variance: '+str(var))\n",
    "    \n",
    "    plt.legend()\n",
    "    plt.show()"
   ]
  },
  {
   "cell_type": "code",
   "execution_count": 3,
   "metadata": {},
   "outputs": [
    {
     "data": {
      "image/png": "[encoded data removed]",
      "text/plain": [
       "<Figure size 720x432 with 1 Axes>"
      ]
     },
     "metadata": {
      "needs_background": "light"
     },
     "output_type": "display_data"
    }
   ],
   "source": [
    "prob1()"
   ]
  },
  {
   "cell_type": "markdown",
   "metadata": {},
   "source": [
    "## Problem 2\n",
    "Implement the function similar()"
   ]
  },
  {
   "cell_type": "code",
   "execution_count": 4,
   "metadata": {},
   "outputs": [],
   "source": [
    "def similar(i, Xhat):\n",
    "    \"\"\"\n",
    "    Takes an index and matrix representing the principal components and returns the indices of\n",
    "    the documents that are the most and least similar to i.\n",
    "    \n",
    "    Parameters:\n",
    "    i index of a document\n",
    "    Xhat decomposed data\n",
    "    \n",
    "    Returns:\n",
    "    index_min: index of the document most similar to document i\n",
    "    index_max: index of the document least similar to document i\n",
    "    \"\"\"\n",
    "    vals = []\n",
    "    n = Xhat.shape[0]    #get the number of rows in Xhat\n",
    "    x_i = Xhat[i, :]       #get the index row and its norm\n",
    "    xi_norm = la.norm(x_i)\n",
    "    for j in range(n):\n",
    "            vals.append(np.dot(Xhat[j, :], x_i) / (xi_norm*la.norm(Xhat[j,:])))  #find the similarity calculation\n",
    "            \n",
    "    max_ind, min_ind = np.argmax(vals), np.argmin(vals)\n",
    "    \n",
    "    if max_ind == i:\n",
    "        vals[i] = np.mean(vals)\n",
    "    if min_ind == i:                  #adjust the index for skipping i\n",
    "        vals[i] = np.mean(vals)\n",
    "\n",
    "        \n",
    "    return np.argmax(vals), np.argmin(vals)"
   ]
  },
  {
   "cell_type": "markdown",
   "metadata": {},
   "source": [
    "### Function for Problem 3"
   ]
  },
  {
   "cell_type": "code",
   "execution_count": 5,
   "metadata": {},
   "outputs": [],
   "source": [
    "def document_converter():\n",
    "    '''\n",
    "    Converts speech documents into an n by m array where m is the number \n",
    "    of vocabulary words and n is the number of documents\n",
    "    \n",
    "    Returns:\n",
    "    X sparse matrix (n x m): Each row represents a document\n",
    "    paths (list): list where each element is a speech path eg: path[0] is './Addresses/1990-Bush.txt'\n",
    "    '''\n",
    "    # Get list of filepaths to each text file in the folder.\n",
    "    folder = \"./Addresses/\"\n",
    "    paths = [folder+p for p in os.listdir(folder) if p.endswith(\".txt\")]\n",
    "\n",
    "    # Helper function to get list of words in a string.\n",
    "    def extractWords(text):\n",
    "        ignore = string.punctuation + string.digits\n",
    "        cleaned = \"\".join([t for t in text.strip() if t not in ignore])\n",
    "        return cleaned.lower().split()\n",
    "\n",
    "    # Initialize vocab set, then read each file and add to the vocab set.\n",
    "    vocab = set()\n",
    "    for p in paths:\n",
    "        with open(p, 'r', encoding=\"utf8\") as infile:\n",
    "            for line in infile:\n",
    "                vocab.update(extractWords(line)) #union sets together\n",
    "\n",
    "\n",
    "    # load stopwords\n",
    "    with open(\"stopwords.txt\", 'r',  encoding=\"utf8\") as f:\n",
    "        stops = set([w.strip().lower() for w in f.readlines()])\n",
    "\n",
    "    # remove stopwords from vocabulary, create ordering\n",
    "    vocab = {w:i for i, w in enumerate(vocab.difference(stops))}\n",
    "\n",
    "\n",
    "    counts = []      # holds the entries of X\n",
    "    doc_index = []   # holds the row index of X\n",
    "    word_index = []  # holds the column index of X\n",
    "\n",
    "    # Iterate through the documents.\n",
    "    for doc, p in enumerate(paths):\n",
    "        with open(p, 'r', encoding=\"utf8\") as f:\n",
    "            # Create the word counter.\n",
    "            ctr = Counter()\n",
    "            for line in f:\n",
    "                ctr.update(extractWords(line))\n",
    "            # Iterate through the word counter, store counts.\n",
    "            for word, count in ctr.items():\n",
    "                if word in vocab:\n",
    "                    word_index.append(vocab[word])\n",
    "                    counts.append(count)\n",
    "                    doc_index.append(doc)\n",
    "\n",
    "    # Create sparse matrix holding these word counts.\n",
    "    X = sparse.csr_matrix((counts, [doc_index, word_index]),\n",
    "                           shape=(len(paths), len(vocab)), dtype=np.float)\n",
    "    return X, paths"
   ]
  },
  {
   "cell_type": "markdown",
   "metadata": {},
   "source": [
    "## Problem 3\n",
    "Use the function above and PCA to find speeches most and least similar to a given speech."
   ]
  },
  {
   "cell_type": "code",
   "execution_count": 6,
   "metadata": {},
   "outputs": [],
   "source": [
    "def prob3(speech, l=7):\n",
    "    \"\"\"\n",
    "    Uses LSI, applied to the word count matrix X, with the first 7 principal\n",
    "    components to find the most similar and least similar speeches\n",
    "\n",
    "    Parameters:\n",
    "        speech str: Path to speech eg: \"./Addresses/1984-Reagan.txt\"\n",
    "        l (int): Number of principal components\n",
    "\n",
    "    Returns:\n",
    "        tuple of str: (Most similar speech, least similar speech)\n",
    "    \"\"\"    \n",
    "    X, paths = document_converter()\n",
    "    speech_index = paths.index(speech)\n",
    "    \n",
    "    u, e, vt = spla.svds(X, k=l)\n",
    "    y_hat = u[:, :l] @ np.diag(e)[:l, :l]     #calculate the svd in the desired way\n",
    "    \n",
    "    most_sim, least_sim = similar(speech_index, y_hat)\n",
    "    \n",
    "    return paths[most_sim][12:-4], paths[least_sim][12:-4]"
   ]
  },
  {
   "cell_type": "code",
   "execution_count": 7,
   "metadata": {},
   "outputs": [
    {
     "name": "stderr",
     "output_type": "stream",
     "text": [
      "/var/folders/5r/5n4nm5w14254l_1t_2lqx2nh0000gn/T/ipykernel_5217/1507959476.py:56: DeprecationWarning: `np.float` is a deprecated alias for the builtin `float`. To silence this warning, use `float` by itself. Doing this will not modify any behavior and is safe. If you specifically wanted the numpy scalar type, use `np.float64` here.\n",
      "Deprecated in NumPy 1.20; for more details and guidance: https://numpy.org/devdocs/release/1.20.0-notes.html#deprecations\n",
      "  shape=(len(paths), len(vocab)), dtype=np.float)\n"
     ]
    },
    {
     "name": "stdout",
     "output_type": "stream",
     "text": [
      "('1988-Reagan', '1946-Truman')\n",
      "('2010-Obama', '1951-Truman')\n"
     ]
    }
   ],
   "source": [
    "#Run this box once you have written prob3()\n",
    "speech = './Addresses/1984-Reagan.txt'\n",
    "print(prob3(speech))\n",
    "\n",
    "speech = \"./Addresses/1993-Clinton.txt\"\n",
    "print(prob3(speech))"
   ]
  },
  {
   "cell_type": "markdown",
   "metadata": {},
   "source": [
    "## Problem 4\n",
    "Edit the end of the following function to return a weighted sparse matrix A."
   ]
  },
  {
   "cell_type": "code",
   "execution_count": 8,
   "metadata": {},
   "outputs": [],
   "source": [
    "def weighted_document_converter():\n",
    "    '''\n",
    "    Converts speech documents into an n by m array where m is the number \n",
    "    of vocabulary words and n is the number of documents. It gives weights\n",
    "    to the most important words in the vocabulary.\n",
    "    \n",
    "    Returns:\n",
    "    A (sparse matrix, n x m): Each row represents a document\n",
    "    paths (list): list where each element is a speech path eg: path[0] is './Addresses/1990-Bush.txt'\n",
    "    '''\n",
    "    # Get list of filepaths to each text file in the folder.\n",
    "    folder = \"./Addresses/\"\n",
    "    paths = [folder+p for p in os.listdir(folder) if p.endswith(\".txt\")]\n",
    "\n",
    "    # Helper function to get list of words in a string.\n",
    "    def extractWords(text):\n",
    "        ignore = string.punctuation + string.digits\n",
    "        cleaned = \"\".join([t for t in text.strip() if t not in ignore])\n",
    "        return cleaned.lower().split()\n",
    "\n",
    "    # Initialize vocab set, then read each file and add to the vocab set.\n",
    "    vocab = set()\n",
    "    for p in paths:\n",
    "        with open(p, 'r', encoding=\"utf8\") as infile:\n",
    "            for line in infile:\n",
    "                vocab.update(extractWords(line)) #union sets together\n",
    "\n",
    "\n",
    "    # load stopwords\n",
    "    with open(\"stopwords.txt\", 'r',  encoding=\"utf8\") as f:\n",
    "        stops = set([w.strip().lower() for w in f.readlines()])\n",
    "\n",
    "    # remove stopwords from vocabulary, create ordering\n",
    "    vocab = {w:i for i, w in enumerate(vocab.difference(stops))}\n",
    "\n",
    "    t = np.zeros(len(vocab))\n",
    "    counts = []      # holds the entries of X\n",
    "    doc_index = []   # holds the row index of X\n",
    "    word_index = []  # holds the column index of X\n",
    "\n",
    "    # Iterate through the documents.\n",
    "    for doc, p in enumerate(paths):\n",
    "        with open(p, 'r', encoding=\"utf8\") as f:\n",
    "            # Create the word counter.\n",
    "            ctr = Counter()\n",
    "            for line in f:\n",
    "                ctr.update(extractWords(line))\n",
    "            # Iterate through the word counter, store counts.\n",
    "            for word, count in ctr.items():\n",
    "                if word in vocab:\n",
    "                    word_ind = vocab[word]\n",
    "                    word_index.append(word_ind)\n",
    "                    word_index.append(vocab[word])\n",
    "                    counts.append(count)\n",
    "                    doc_index.append(doc)\n",
    "                    t[word_ind] += count\n",
    "                    \n",
    "    X, _ = document_converter()   #get the x matrix\n",
    "    ps = X/np.sum(X, axis=1)    #calculate the p matrix\n",
    "    g = 1 + np.sum(np.multiply(ps, np.log(ps+1))/np.log(len(paths)), axis=1)   #calculate the g values\n",
    "    \n",
    "    return sparse.csr_matrix((np.multiply(g,np.log(X.todense() + 1)))), paths   #calculate A"
   ]
  },
  {
   "cell_type": "markdown",
   "metadata": {},
   "source": [
    "## Problem 5\n",
    "Use the weighted_document_converter() function above and scikit-learn's PCA to find speeches most and least similar to a given speech."
   ]
  },
  {
   "cell_type": "code",
   "execution_count": 9,
   "metadata": {},
   "outputs": [],
   "source": [
    "def prob5(speech, l=7):\n",
    "    \"\"\"\n",
    "    Uses LSI, applied to the globally weighted word count matrix A, with the\n",
    "    first 7 principal components to find the most similar and least similar speeches\n",
    "\n",
    "    Parameters:\n",
    "        speech str: Path to speech eg: \"./Addresses/1984-Reagan.txt\"\n",
    "        l (int): Number of principal components\n",
    "\n",
    "    Returns:\n",
    "        tuple of str: (Most similar speech, least similar speech)\n",
    "    \"\"\"\n",
    "    A, paths = weighted_document_converter()   #get A and the paths \n",
    "    from sklearn.decomposition import PCA\n",
    "    pca = PCA(n_components=l)          #use built in PCA decomposition\n",
    "    Xhat = pca.fit_transform(A.toarray())\n",
    "    \n",
    "    speech_index = paths.index(speech)   #get the index of the speech\n",
    "    \n",
    "    most_sim, least_sim = similar(speech_index, Xhat)   #find the most and least similar speeches\n",
    "    \n",
    "    return paths[most_sim][12:-4], paths[least_sim][12:-4]"
   ]
  },
  {
   "cell_type": "code",
   "execution_count": 10,
   "metadata": {},
   "outputs": [
    {
     "name": "stderr",
     "output_type": "stream",
     "text": [
      "/var/folders/5r/5n4nm5w14254l_1t_2lqx2nh0000gn/T/ipykernel_5217/1507959476.py:56: DeprecationWarning: `np.float` is a deprecated alias for the builtin `float`. To silence this warning, use `float` by itself. Doing this will not modify any behavior and is safe. If you specifically wanted the numpy scalar type, use `np.float64` here.\n",
      "Deprecated in NumPy 1.20; for more details and guidance: https://numpy.org/devdocs/release/1.20.0-notes.html#deprecations\n",
      "  shape=(len(paths), len(vocab)), dtype=np.float)\n"
     ]
    },
    {
     "name": "stdout",
     "output_type": "stream",
     "text": [
      "('1985-Reagan', '1961-Kennedy')\n",
      "('1994-Clinton', '1951-Truman')\n"
     ]
    },
    {
     "name": "stderr",
     "output_type": "stream",
     "text": [
      "/var/folders/5r/5n4nm5w14254l_1t_2lqx2nh0000gn/T/ipykernel_5217/1507959476.py:56: DeprecationWarning: `np.float` is a deprecated alias for the builtin `float`. To silence this warning, use `float` by itself. Doing this will not modify any behavior and is safe. If you specifically wanted the numpy scalar type, use `np.float64` here.\n",
      "Deprecated in NumPy 1.20; for more details and guidance: https://numpy.org/devdocs/release/1.20.0-notes.html#deprecations\n",
      "  shape=(len(paths), len(vocab)), dtype=np.float)\n"
     ]
    }
   ],
   "source": [
    "#Run this box after you have completed prob5()\n",
    "speech = './Addresses/1984-Reagan.txt'\n",
    "print(prob5(speech))\n",
    "\n",
    "speech = \"./Addresses/1993-Clinton.txt\"\n",
    "print(prob5(speech))"
   ]
  },
  {
   "cell_type": "markdown",
   "metadata": {},
   "source": [
    "## Problem 6\n",
    "- Split the breast cancer dataset into training and testing sets using random_state=2\n",
    "- Fit KNeighborsClassifier and RandomForestClassifier to the training data\n",
    "- Predict labels for the testing set\n",
    "- Print a classification_report for each classifier\n",
    "- Write a few sentences explaining which classifier would be better to use in this situation and why"
   ]
  },
  {
   "cell_type": "code",
   "execution_count": 17,
   "metadata": {},
   "outputs": [
    {
     "name": "stdout",
     "output_type": "stream",
     "text": [
      "Nearest Neighbors: \n",
      "               precision    recall  f1-score   support\n",
      "\n",
      "           0       0.91      0.89      0.90        56\n",
      "           1       0.93      0.94      0.94        87\n",
      "\n",
      "    accuracy                           0.92       143\n",
      "   macro avg       0.92      0.92      0.92       143\n",
      "weighted avg       0.92      0.92      0.92       143\n",
      " \n",
      "\n",
      "Random Forest: \n",
      "               precision    recall  f1-score   support\n",
      "\n",
      "           0       0.93      0.93      0.93        56\n",
      "           1       0.95      0.95      0.95        87\n",
      "\n",
      "    accuracy                           0.94       143\n",
      "   macro avg       0.94      0.94      0.94       143\n",
      "weighted avg       0.94      0.94      0.94       143\n",
      " \n",
      "\n",
      "A random forest is a better choice in this case because we value recall over precision in situations in which a false positive isn't really a terrible thing. The results of a false negative in cancer treatment could be quite disastrous.\n"
     ]
    }
   ],
   "source": [
    "cancer = sklearn.datasets.load_breast_cancer()   #import the data\n",
    "X = cancer.data\n",
    "y = cancer.target\n",
    "\n",
    "X_train, X_test, y_train, y_test = train_test_split(X, y, random_state=2)   #Split the data into training and testing sets\n",
    "\n",
    "#Fit the esimators to training data and predict the test labels\n",
    "knn = KNeighborsClassifier()\n",
    "rf = RandomForestClassifier()\n",
    "\n",
    "knn.fit(X_train, y_train)\n",
    "knn_predicted = knn.predict(X_test)\n",
    "\n",
    "rf.fit(X_train, y_train)\n",
    "rf_predicted = rf.predict(X_test)\n",
    "\n",
    "#Get precision, recall, and F1 scores all at once\n",
    "print(\"Nearest Neighbors: \\n\", classification_report(y_test, knn_predicted), '\\n')\n",
    "print(\"Random Forest: \\n\", classification_report(y_test, rf_predicted), '\\n')\n",
    "print(\"A random forest is a better choice in this case because we value recall over precision in situations in \"\n",
    "      \"which a false positive isn't really a terrible thing. The results of a false negative in cancer treatment \"\n",
    "      \"could be quite disastrous.\")"
   ]
  },
  {
   "cell_type": "markdown",
   "metadata": {},
   "source": []
  },
  {
   "cell_type": "markdown",
   "metadata": {},
   "source": [
    "## Problem 7\n",
    "- Use the breast cancer dataset split from Problem 6\n",
    "- Run a GridSearch with a RandomForestClassifier, modifying at least three parameters.\n",
    "- Use scoring=\"f1\"\n",
    "- Print out best_params_ and best_score_\n",
    "- Print a confusion matrix for the test data"
   ]
  },
  {
   "cell_type": "code",
   "execution_count": 27,
   "metadata": {},
   "outputs": [
    {
     "name": "stdout",
     "output_type": "stream",
     "text": [
      "{'criterion': 'entropy', 'max_depth': 20, 'n_estimators': 60}\n",
      "0.9763090848960694\n"
     ]
    },
    {
     "data": {
      "text/plain": [
       "array([[52,  4],\n",
       "       [ 4, 83]])"
      ]
     },
     "metadata": {},
     "output_type": "display_data"
    }
   ],
   "source": [
    "cancer = sklearn.datasets.load_breast_cancer()   #import the data\n",
    "X = cancer.data\n",
    "y = cancer.target\n",
    "\n",
    "X_train, X_test, y_train, y_test = train_test_split(X, y, random_state=2)   #Split the data into training and testing sets\n",
    "rf = RandomForestClassifier()   #create random forest\n",
    "param_grid = {\n",
    "    \"n_estimators\": [20, 40, 60, 80, 100], \n",
    "    \"criterion\": [\"gini\", \"entropy\", \"log_loss\"],  #test different params\n",
    "    \"max_depth\": [5, 10, 15, 20],\n",
    "}\n",
    "rf_gs = GridSearchCV(rf, param_grid, scoring='f1', n_jobs=-1)\n",
    "rf_gs.fit(X_train, y_train)  #create our GridSearch and fit estimators\n",
    "\n",
    "print(rf_gs.best_params_, rf_gs.best_score_, sep='\\n')\n",
    "\n",
    "bestest = rf_gs.best_estimator_ #utilize best model\n",
    "prediction = bestest.predict(X_test)  #predict labels for test set\n",
    "CM = confusion_matrix(y_test, prediction)  #create and display confusion matrix\n",
    "display(CM)"
   ]
  },
  {
   "cell_type": "markdown",
   "metadata": {},
   "source": [
    "## Problem 8\n",
    "- Create a pipeline with a StandardScaler, PCA, and a KNeighborsClassifier\n",
    "- Do a grid search, modifying at least 6 parameters\n",
    "- Print your best parameters and best score (f1)\n",
    "- Get a score of at least .96"
   ]
  },
  {
   "cell_type": "code",
   "execution_count": 3,
   "metadata": {},
   "outputs": [
    {
     "name": "stdout",
     "output_type": "stream",
     "text": [
      "{'classifier__algorithm': 'auto', 'classifier__weights': 'uniform', 'pca__n_components': 5, 'pca__svd_solver': 'auto', 'scaler__with_mean': True, 'scaler__with_std': True}\n",
      "0.969106086904252\n"
     ]
    }
   ],
   "source": [
    "cancer = sklearn.datasets.load_breast_cancer()   #import the data\n",
    "X = cancer.data\n",
    "y = cancer.target\n",
    "\n",
    "X_train, X_test, y_train, y_test = train_test_split(X, y, random_state=2)   #Split the data into training and testing \n",
    "pipe = Pipeline([\n",
    "    (\"scaler\", StandardScaler()),\n",
    "    (\"pca\", PCA()),             #Create the Pipeline, labeling each step\n",
    "    (\"classifier\", KNeighborsClassifier()),\n",
    "])\n",
    "\n",
    "#Specify the hyperparameters to test for each step\n",
    "pipe_param_grid = {\n",
    "    \"scaler__with_mean\": [True, False],\n",
    "    \"scaler__with_std\": [True, False],    \n",
    "    \"pca__n_components\": [2,3,4,5],\n",
    "    \"pca__svd_solver\": ['auto', 'full', 'arpack', 'randomized'],\n",
    "    \"classifier__weights\": [\"uniform\", \"distance\"],\n",
    "    \"classifier__algorithm\": ['auto', 'ball_tree', 'kd_tree', 'brute'],\n",
    "}\n",
    "\n",
    "#Pass the Pipeline object to the GridSearchCV and fit it to the data\n",
    "pipe_gs = GridSearchCV(pipe, pipe_param_grid, scoring='f1', n_jobs=-1).fit(X_train, y_train)\n",
    "print(pipe_gs.best_params_, pipe_gs.best_score_, sep='\\n')"
   ]
  }
 ],
 "metadata": {
  "kernelspec": {
   "display_name": "Python 3 (ipykernel)",
   "language": "python",
   "name": "python3"
  },
  "language_info": {
   "codemirror_mode": {
    "name": "ipython",
    "version": 3
   },
   "file_extension": ".py",
   "mimetype": "text/x-python",
   "name": "python",
   "nbconvert_exporter": "python",
   "pygments_lexer": "ipython3",
   "version": "3.10.5"
  }
 },
 "nbformat": 4,
 "nbformat_minor": 4
}
