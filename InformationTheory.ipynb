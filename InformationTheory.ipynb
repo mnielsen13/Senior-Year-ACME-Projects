{
 "cells": [
  {
   "cell_type": "code",
   "execution_count": 1,
   "id": "cff8e141",
   "metadata": {},
   "outputs": [],
   "source": [
    "import numpy as np\n",
    "import wordle\n",
    "\n",
    "# Problem 1\n",
    "def get_guess_result(true_word, guess):\n",
    "    \"\"\"\n",
    "    Returns an array containing the result of a guess, with the return values as follows:\n",
    "        2 - correct location of the letter\n",
    "        1 - incorrect location but present in word\n",
    "        0 - not present in word\n",
    "    For example, if the true word is \"boxed\" and the provided guess is \"excel\", the \n",
    "    function should return [0,1,0,2,0].\n",
    "    \n",
    "    Arguments:\n",
    "        true_word (string) - the secret word\n",
    "        guess (string) - the guess being made\n",
    "    Returns:\n",
    "        result (array of integers) - the result of the guess, as described above\n",
    "    \"\"\"\n",
    "\n",
    "    result = [0,0,0,0,0]     #create the results that we will return\n",
    "    tru_letters = {i: true_word.count(i) for i in true_word}    #create dictionaries that indicate if we have addressed each letter's position\n",
    "    guess_letters = {i: guess.count(i) for i in guess}\n",
    "\n",
    "    guess = list(guess)\n",
    "    true_word = list(true_word)         \n",
    "\n",
    "    for i, let in enumerate(guess):\n",
    "        if let == true_word[i]:          #if letter is in correct place assign result array a 2\n",
    "            result[i] = 2\n",
    "            true_word[i] = ''\n",
    "            tru_letters[let] -= 1\n",
    "            guess_letters[let] -= 1      #show that we have adressed the letter\n",
    "\n",
    "    for i, let in enumerate(guess):\n",
    "        if let in true_word and (result[i] != 2 and tru_letters[let] >= 1):\n",
    "            result[i] = 1\n",
    "            tru_letters[let] -= 1        #show that we have addressed the letter\n",
    "\n",
    "    return result"
   ]
  },
  {
   "cell_type": "code",
   "execution_count": 2,
   "id": "6cb3aa69",
   "metadata": {},
   "outputs": [],
   "source": [
    "def test1():\n",
    "    # (0,1,0,2,0)\n",
    "    true_word0 = \"boxed\"\n",
    "    guess0 = \"excel\"\n",
    "    print(true_word0, guess0, \": \", get_guess_result(true_word0, guess0))\n",
    "    # (1,0,0,2,0)\n",
    "    true_word1 = \"pages\"\n",
    "    guess1 = \"green\"\n",
    "    print(true_word1, guess1, \": \",get_guess_result(true_word1, guess1))\n",
    "    # (0,1,0,0,0)\n",
    "    true_word2 = \"speak\"\n",
    "    guess2 = \"bevel\"\n",
    "    print(true_word2, guess2, \": \", get_guess_result(true_word2, guess2))\n",
    "    # (0,0,0,2,0)\n",
    "    true_word3 = \"ashes\"\n",
    "    guess3 = \"bevel\"\n",
    "    print(true_word3, guess3, \": \",get_guess_result(true_word3, guess3))\n",
    "    # (0,1,0,2,2)\n",
    "    true_word4 = \"steel\"\n",
    "    guess4 = \"bevel\"\n",
    "    print(true_word4, guess4, \": \",get_guess_result(true_word4, guess4))\n",
    "    # (0,1,0,1,0)\n",
    "    true_word5 = \"speae\"\n",
    "    guess5 = \"bevel\"\n",
    "    print(true_word5, guess5, \": \",get_guess_result(true_word5, guess5))"
   ]
  },
  {
   "cell_type": "code",
   "execution_count": 3,
   "id": "5e608285",
   "metadata": {},
   "outputs": [
    {
     "name": "stdout",
     "output_type": "stream",
     "text": [
      "boxed excel :  [0, 1, 0, 2, 0]\n",
      "pages green :  [1, 0, 0, 2, 0]\n",
      "speak bevel :  [0, 1, 0, 0, 0]\n",
      "ashes bevel :  [0, 0, 0, 2, 0]\n",
      "steel bevel :  [0, 1, 0, 2, 2]\n",
      "speae bevel :  [0, 1, 0, 1, 0]\n"
     ]
    }
   ],
   "source": [
    "test1()"
   ]
  },
  {
   "cell_type": "code",
   "execution_count": 4,
   "id": "b7405c7a",
   "metadata": {},
   "outputs": [],
   "source": [
    "# Problem 2\n",
    "def load_words(filen):\n",
    "    \"\"\"\n",
    "    Loads all of the words from the given file, ensuring that they \n",
    "    are formatted correctly.\n",
    "    \"\"\"\n",
    "    with open(filen, 'r') as file:\n",
    "        # Get all 5-letter words\n",
    "        words = [line.strip() for line in file.readlines() if len(line.strip()) == 5]\n",
    "    return words"
   ]
  },
  {
   "cell_type": "code",
   "execution_count": 5,
   "id": "62c5c013",
   "metadata": {},
   "outputs": [],
   "source": [
    "def get_all_guess_results(possible_words, allowed_words):\n",
    "    \"\"\"\n",
    "    Calculates the result of making every guess for every possible secret word\n",
    "    \n",
    "    Arguments:\n",
    "        possible_words (list of strings)\n",
    "            A list of all possible secret words\n",
    "        allowed_words (list of strings)\n",
    "            A list of all allowed guesses\n",
    "    Returns:\n",
    "        ((n,m,5) ndarray) - the results of each guess for each secret word,\n",
    "            where n is the the number\n",
    "            of allowed guesses and m is number of possible secret words.\n",
    "    \"\"\"\n",
    "\n",
    "    secret_combinations = np.array([np.array([get_guess_result(word, guess) for word in possible_words]) for guess in allowed_words])  #get each possible combination and use problem 2\n",
    "\n",
    "    return secret_combinations"
   ]
  },
  {
   "cell_type": "code",
   "execution_count": 6,
   "id": "a6b3d6eb",
   "metadata": {},
   "outputs": [],
   "source": [
    "def save_stuff():\n",
    "    possible_words = load_words('possible_words.txt')       #load the possible and allowed words\n",
    "\n",
    "    allowed_words = load_words('allowed_words.txt')\n",
    "\n",
    "\n",
    "    all_results = get_all_guess_results(possible_words, allowed_words)\n",
    "    np.save('all_results.txt', all_results)     #save the results"
   ]
  },
  {
   "cell_type": "code",
   "execution_count": 7,
   "id": "4091bdb5",
   "metadata": {},
   "outputs": [],
   "source": [
    "# Problem 3\n",
    "def compute_highest_entropy(all_guess_results, allowed_words):\n",
    "    \"\"\"\n",
    "    Compute the entropy of each guess.\n",
    "    \n",
    "    Arguments:\n",
    "        all_guess_results ((n,m,5) ndarray) - the output of the function\n",
    "            from Problem 2, containing the results of each \n",
    "            guess for each secret word, where n is the the number\n",
    "            of allowed guesses and m is number of possible secret words.\n",
    "        allowed_words (list of strings) - list of the allowed guesses\n",
    "    Returns:\n",
    "        (string) The highest-entropy guess\n",
    "        (int) Index of the highest-entropy guess\n",
    "    \"\"\"\n",
    "    def ternary_gen(a, b, c, d, e):\n",
    "        return a*1 + b*3 + c*9 + d*27 + e*81     #calculate the ternary generation of different arrays\n",
    "\n",
    "    ter_list = ternary_gen(all_guess_results[:,:,0], all_guess_results[:, :, 1], all_guess_results[:, :, 2], all_guess_results[:,:,3], all_guess_results[:,:,4])   #calculate the ternary of each result\n",
    "\n",
    "    entropies = []\n",
    "    for ent in ter_list:\n",
    "        dontcare, num_times = np.unique(ent, return_counts=True)     #find the number of occurrences each different value\n",
    "        entropy = np.sum([num / len(ent) * -np.log2(num/len(ent)) for num in num_times])   #calculate the entropy of each entry\n",
    "        entropies.append(entropy)\n",
    "\n",
    "    max_ind = np.argmax(entropies)\n",
    "    return allowed_words[max_ind], max_ind"
   ]
  },
  {
   "cell_type": "code",
   "execution_count": 8,
   "id": "1458e878",
   "metadata": {},
   "outputs": [],
   "source": [
    "def want_soare():\n",
    "    hello = np.load('all_results.txt.npy')\n",
    "\n",
    "    allowed = load_words('allowed_words.txt')\n",
    "\n",
    "    print(compute_highest_entropy(hello, allowed))"
   ]
  },
  {
   "cell_type": "code",
   "execution_count": 9,
   "id": "7a151a4f",
   "metadata": {},
   "outputs": [
    {
     "name": "stdout",
     "output_type": "stream",
     "text": [
      "('soare', 10349)\n"
     ]
    }
   ],
   "source": [
    "want_soare()"
   ]
  },
  {
   "cell_type": "code",
   "execution_count": 10,
   "id": "f007dbd4",
   "metadata": {},
   "outputs": [],
   "source": [
    "# Problem 4\n",
    "def filter_words(all_guess_results, possible_words, guess_idx, result):\n",
    "    \"\"\"\n",
    "    Create a function that filters the list of possible words after making a guess.\n",
    "    Since we already computed the result of all guesses for all possible words in \n",
    "    Problem 2, we will use this array instead of recomputing the results.\n",
    "    \n",
    "\tReturn a filtered list of possible words that are still possible after \n",
    "    knowing the result of a guess. Also return a filtered version of the array\n",
    "    of all guess results that only contains the results for the secret words \n",
    "    still possible after making the guess. This array will be used to compute \n",
    "    the entropies for making the next guess.\n",
    "    \n",
    "    Arguments:\n",
    "        all_guess_results (3-D ndarray)\n",
    "            The output of Problem 2, containing the result of making\n",
    "            any allowed guess for any possible secret word\n",
    "        possible_words (list of str)\n",
    "            The list of possible secret words\n",
    "        guess_idx (int)\n",
    "            The index of the guess that was made in the list of allowed guesses.\n",
    "        result (tuple of int)\n",
    "            The result of the guess\n",
    "    Returns:\n",
    "        (list of str) The filtered list of possible secret words\n",
    "        (3-D ndarray) The filtered array of guess results\n",
    "    \"\"\"\n",
    "    filt_res = all_guess_results[:, np.all(all_guess_results[guess_idx] == result, axis=1), :]  #get the filtered array of guess results\n",
    "    poss_secrets = np.array(possible_words)[np.all(all_guess_results[guess_idx] == result, axis=1)]      #use the guess results to get the list of possible secret words\n",
    "\n",
    "    return poss_secrets, filt_res"
   ]
  },
  {
   "cell_type": "code",
   "execution_count": 11,
   "id": "592b24d2",
   "metadata": {},
   "outputs": [],
   "source": [
    "def test4():\n",
    "    get_all_guess_results = np.load('all_results.txt.npy')\n",
    "    possible_words = load_words('possible_words.txt')\n",
    "\n",
    "    guess_idx = 1914\n",
    "\n",
    "    print(filter_words(get_all_guess_results, possible_words, guess_idx, [0,0,0,1,2]))"
   ]
  },
  {
   "cell_type": "code",
   "execution_count": 12,
   "id": "c5153a62",
   "metadata": {},
   "outputs": [
    {
     "name": "stdout",
     "output_type": "stream",
     "text": [
      "(array(['ivory', 'ovary', 'savoy'], dtype='<U5'), array([[[0, 0, 0, 0, 0],\n",
      "        [1, 0, 0, 0, 0],\n",
      "        [0, 2, 0, 0, 0]],\n",
      "\n",
      "       [[0, 0, 0, 1, 0],\n",
      "        [1, 0, 0, 0, 0],\n",
      "        [0, 2, 0, 0, 0]],\n",
      "\n",
      "       [[0, 0, 1, 0, 0],\n",
      "        [1, 0, 1, 0, 0],\n",
      "        [0, 2, 0, 0, 0]],\n",
      "\n",
      "       ...,\n",
      "\n",
      "       [[0, 1, 0, 1, 0],\n",
      "        [0, 1, 0, 1, 0],\n",
      "        [0, 1, 0, 2, 0]],\n",
      "\n",
      "       [[0, 1, 0, 0, 0],\n",
      "        [0, 1, 0, 0, 0],\n",
      "        [0, 1, 0, 0, 1]],\n",
      "\n",
      "       [[0, 1, 0, 1, 0],\n",
      "        [0, 1, 0, 0, 0],\n",
      "        [0, 1, 0, 0, 0]]]))\n"
     ]
    }
   ],
   "source": [
    "test4()"
   ]
  },
  {
   "cell_type": "code",
   "execution_count": 14,
   "id": "b7293bcc",
   "metadata": {},
   "outputs": [],
   "source": [
    "# Problem 5\n",
    "def play_game_naive(game, all_guess_results, possible_words, allowed_words, word=None, display=False):\n",
    "    \"\"\"\n",
    "    Plays a game of Wordle using the strategy of making guesses at random.\n",
    "    \n",
    "    Return how many guesses were used.\n",
    "    \n",
    "    Arguments:\n",
    "        game (wordle.WordleGame)\n",
    "            the Wordle game object\n",
    "        all_guess_results ((n,m,5) ndarray)\n",
    "            an array as outputted by problem 2 containing the results of every guess for every secret word.\n",
    "        possible_words (list of str)\n",
    "            list of possible secret words\n",
    "        allowed_words (list of str)\n",
    "            list of allowed guesses\n",
    "        \n",
    "        word (optional)\n",
    "            If not None, this is the secret word; can be used for testing. \n",
    "        display (bool)\n",
    "            If true, output will be printed to the terminal by the game.\n",
    "    Returns:\n",
    "        (int) Number of guesses made\n",
    "    \"\"\"\n",
    "    # Initialize the game\n",
    "    game.start_game(word=word, display=display)\n",
    "    \n",
    "    actual_word = game.word       #find the actual word that we are trying to find\n",
    "    num_guesses = 0\n",
    "\n",
    "    while len(possible_words) != 1:           #keep going until we only have one word aka the right one\n",
    "        num_words = len(allowed_words)\n",
    "        guess_idx = np.random.randint(0, num_words)    #choose a random guess\n",
    "        rand_guess = allowed_words[guess_idx]\n",
    "        res, num_guesses = game.make_guess(rand_guess)\n",
    "\n",
    "        if actual_word == rand_guess:\n",
    "            break\n",
    "        possible_words, all_guess_results = filter_words(all_guess_results, possible_words, guess_idx, res)    #filter the results for next iteration\n",
    "    return num_guesses"
   ]
  },
  {
   "cell_type": "code",
   "execution_count": 24,
   "id": "37fb33c1",
   "metadata": {},
   "outputs": [],
   "source": [
    "def test5():\n",
    "    game = wordle.WordleGame()\n",
    "    result = np.load('all_results.txt.npy')\n",
    "    #output will be number of turns taken to get word\n",
    "    print(play_game_naive(game, result, game.possible_words, game.allowed_words))"
   ]
  },
  {
   "cell_type": "code",
   "execution_count": 25,
   "id": "27ac962a",
   "metadata": {},
   "outputs": [
    {
     "name": "stdout",
     "output_type": "stream",
     "text": [
      "5\n"
     ]
    }
   ],
   "source": [
    "test5()"
   ]
  },
  {
   "cell_type": "code",
   "execution_count": 26,
   "id": "0593dd7b",
   "metadata": {},
   "outputs": [],
   "source": [
    "# Problem 6\n",
    "def play_game_entropy(game, all_guess_results, possible_words, allowed_words, word=None, display=False):\n",
    "    \"\"\"\n",
    "    Plays a game of Wordle using the strategy of guessing the maximum-entropy guess.\n",
    "    \n",
    "    Return how many guesses were used.\n",
    "    \n",
    "    Arguments:\n",
    "        game (wordle.WordleGame)\n",
    "            the Wordle game object\n",
    "        all_guess_results ((n,m,5) ndarray)\n",
    "            an array as outputted by problem 2 containing the results of every guess for every secret word.\n",
    "        possible_words (list of str)\n",
    "            list of possible secret words\n",
    "        allowed_words (list of str)\n",
    "            list of allowed guesses\n",
    "        \n",
    "        word (optional)\n",
    "            If not None, this is the secret word; can be used for testing. \n",
    "        display (bool)\n",
    "            If true, output will be printed to the terminal by the game.\n",
    "    Returns:\n",
    "        (int) Number of guesses made\n",
    "    \"\"\"\n",
    "    # Initialize the game\n",
    "    game.start_game(word=word, display=display)\n",
    "    \n",
    "    actual_word = game.word\n",
    "\n",
    "    while len(possible_words) != 1:\n",
    "        next_guess, guess_idx = compute_highest_entropy(all_guess_results, allowed_words)    #compute our next guess by entropy maximization\n",
    "        res, num_guesses = game.make_guess(next_guess)\n",
    "\n",
    "        if actual_word == next_guess:\n",
    "            break\n",
    "\n",
    "        possible_words, all_guess_results = filter_words(all_guess_results, possible_words, guess_idx, res)  #update our possible words by filtering\n",
    "\n",
    "    return num_guesses"
   ]
  },
  {
   "cell_type": "code",
   "execution_count": 27,
   "id": "c2bffaa1",
   "metadata": {},
   "outputs": [],
   "source": [
    "def test6():\n",
    "    game = wordle.WordleGame()\n",
    "    \n",
    "    dat = np.load('all_results.txt.npy')\n",
    "    #output will be number of turns taken to get word\n",
    "    print(play_game_entropy(game, dat, game.possible_words, game.allowed_words))"
   ]
  },
  {
   "cell_type": "code",
   "execution_count": 28,
   "id": "67bf4898",
   "metadata": {},
   "outputs": [
    {
     "name": "stdout",
     "output_type": "stream",
     "text": [
      "2\n"
     ]
    }
   ],
   "source": [
    "test6()"
   ]
  },
  {
   "cell_type": "code",
   "execution_count": 29,
   "id": "9d3610f8",
   "metadata": {},
   "outputs": [],
   "source": [
    "# Problem 7\n",
    "def compare_algorithms(all_guess_results, possible_words, allowed_words, n=20):\n",
    "    \"\"\"\n",
    "    Compare the algorithms created in Problems 5 and 6. Play n games with each\n",
    "    algorithm. Return the mean number of guesses the algorithms from\n",
    "    problems 5 and 6 needed to guess the secret word, in that order.\n",
    "    \n",
    "    \n",
    "    Arguments:\n",
    "        all_guess_results ((n,m,5) ndarray)\n",
    "            an array as outputted by problem 2 containing the results of every guess for every secret word.\n",
    "        possible_words (list of str)\n",
    "            list of possible secret words\n",
    "        allowed_words (list of str)\n",
    "            list of allowed guesses\n",
    "        n (int)\n",
    "            Number of games to run\n",
    "    Returns:\n",
    "        (float) - average number of guesses needed by naive algorithm\n",
    "        (float) - average number of guesses needed by entropy algorithm\n",
    "    \"\"\"\n",
    "    naive_guesses = []\n",
    "    entropy_guesses = []\n",
    "\n",
    "    for i in range(n):\n",
    "        game = wordle.WordleGame()    #create a new game\n",
    "        naive_guesses.append(play_game_naive(game, all_guess_results, possible_words, allowed_words, word=None, display=False))  #do naive way\n",
    "        entropy_guesses.append(play_game_entropy(game, all_guess_results, possible_words, allowed_words, word=None, display=False))  #do entropy way\n",
    "    return np.mean(naive_guesses), np.mean(entropy_guesses)"
   ]
  },
  {
   "cell_type": "code",
   "execution_count": 30,
   "id": "46c0bee5",
   "metadata": {},
   "outputs": [],
   "source": [
    "def test7():\n",
    "    game = wordle.WordleGame()\n",
    "    \n",
    "    dat = np.load('all_results.txt.npy')\n",
    "    #compare the average number of guesses needed by naive algorithm vs entropy algorithm\n",
    "    print(compare_algorithms(dat, game.possible_words, game.allowed_words, 20))"
   ]
  },
  {
   "cell_type": "code",
   "execution_count": 31,
   "id": "8ad016a9",
   "metadata": {},
   "outputs": [
    {
     "name": "stdout",
     "output_type": "stream",
     "text": [
      "(7.0, 2.65)\n"
     ]
    }
   ],
   "source": [
    "#look at the difference!\n",
    "test7()"
   ]
  }
 ],
 "metadata": {
  "kernelspec": {
   "display_name": "Python 3 (ipykernel)",
   "language": "python",
   "name": "python3"
  },
  "language_info": {
   "codemirror_mode": {
    "name": "ipython",
    "version": 3
   },
   "file_extension": ".py",
   "mimetype": "text/x-python",
   "name": "python",
   "nbconvert_exporter": "python",
   "pygments_lexer": "ipython3",
   "version": "3.9.13"
  }
 },
 "nbformat": 4,
 "nbformat_minor": 5
}
