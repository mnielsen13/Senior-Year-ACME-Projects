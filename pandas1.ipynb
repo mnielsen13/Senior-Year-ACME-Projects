{
 "cells": [
  {
   "cell_type": "markdown",
   "metadata": {
    "colab_type": "text",
    "id": "hr6QvWC1sVno"
   },
   "source": [
    "# Pandas 1\n",
    "\n",
    "## Maxwell Nielsen\n",
    "\n",
    "## Section 001\n",
    "\n",
    "## 8/30/2022"
   ]
  },
  {
   "cell_type": "code",
   "execution_count": 3,
   "metadata": {
    "colab": {},
    "colab_type": "code",
    "id": "D1pxi6sWEcmJ"
   },
   "outputs": [],
   "source": [
    "import numpy as np\n",
    "import pandas as pd"
   ]
  },
  {
   "cell_type": "markdown",
   "metadata": {
    "colab_type": "text",
    "id": "Y8nzrZCaE4bn"
   },
   "source": [
    "# Problem 1"
   ]
  },
  {
   "cell_type": "code",
   "execution_count": 4,
   "metadata": {},
   "outputs": [],
   "source": [
    "# Prob 1\n",
    "def prob1(file='budget.csv'):\n",
    "    \"\"\"\"\n",
    "    Read in budget.csv as a DataFrame with the index as column 0 and perform each of these operations on the DataFrame in order. \n",
    "    \n",
    "    1) Reindex the columns such that amount spent on groceries is the first column and all other columns maintain the same ordering.\n",
    "    2) Sort the DataFrame in descending order based on how much money was spent on Groceries.\n",
    "    3) Reset all values in the 'Rent' column to 800.0.\n",
    "    4) Reset all values in the first 5 data points to 0.0\n",
    "    \n",
    "    Return the values of the updated DataFrame as a NumPy array.\n",
    "    \n",
    "    Parameters:\n",
    "        file (str): name of datafile\n",
    "        \n",
    "    Return:\n",
    "        values (ndarray): values of DataFrame\n",
    "    \"\"\"\n",
    "    budget = pd.read_csv(file, index_col=0)      #read in the csv file with the index as column 0\n",
    "    budget = budget.reindex(columns=['Groceries', 'Rent', 'Utilities', 'Dining Out', 'Gas', 'Out With Friends', 'Netflix'])   #reindex accordingly\n",
    "    budget = budget.sort_values('Groceries', ascending=False)    #sort in descending order according to groceriess\n",
    "    budget['Rent'] = 800.0     #set the necessary entries to the given numbers\n",
    "    budget.iloc[:5, :] = 0.0\n",
    "    return budget.to_numpy()\n",
    "    \n",
    "    \n",
    "    \n",
    "    "
   ]
  },
  {
   "cell_type": "code",
   "execution_count": 5,
   "metadata": {},
   "outputs": [
    {
     "data": {
      "text/plain": [
       "array([[  0.,   0.,   0.,   0.,   0.,   0.,   0.],\n",
       "       [  0.,   0.,   0.,   0.,   0.,   0.,   0.],\n",
       "       [  0.,   0.,   0.,   0.,   0.,   0.,   0.],\n",
       "       [  0.,   0.,   0.,   0.,   0.,   0.,   0.],\n",
       "       [  0.,   0.,   0.,   0.,   0.,   0.,   0.],\n",
       "       [174., 800.,  90.,  37.,  30.,  23.,   8.],\n",
       "       [174., 800.,  82.,  35.,  nan,  26.,  nan],\n",
       "       [172., 800.,  82.,  31.,  30.,  26.,   8.],\n",
       "       [171., 800.,  82.,  40.,  nan,  23.,  nan],\n",
       "       [171., 800.,  82.,  35.,  nan,  27.,  nan],\n",
       "       [171., 800.,  80.,  30.,  31.,  22.,  nan],\n",
       "       [170., 800.,  90.,  34.,  33.,  nan,   8.],\n",
       "       [170., 800.,  85.,  34.,  nan,  25.,  nan],\n",
       "       [167., 800.,  92.,  30.,  nan,  29.,  nan],\n",
       "       [163., 800.,  85.,  30.,  nan,  nan,  nan],\n",
       "       [163., 800.,  90.,  31.,  nan,  25.,  nan],\n",
       "       [161., 800.,  85.,  30.,  nan,  24.,  nan],\n",
       "       [160., 800.,  91.,  32.,  28.,  23.,  nan],\n",
       "       [158., 800.,  92.,  nan,  nan,  22.,  nan],\n",
       "       [157., 800.,  82.,  nan,  32.,  21.,   8.],\n",
       "       [155., 800.,  80.,  nan,  33.,  26.,   8.],\n",
       "       [155., 800.,  92.,  33.,  nan,  nan,  nan],\n",
       "       [153., 800.,  80.,  31.,  30.,  27.,   8.],\n",
       "       [152., 800.,  95.,  30.,  46.,  nan,   8.],\n",
       "       [152., 800.,  85.,  39.,  nan,  29.,  nan],\n",
       "       [152., 800.,  95.,  32.,  34.,  22.,   8.],\n",
       "       [150., 800.,  90.,  34.,  nan,  25.,  nan],\n",
       "       [148., 800.,  91.,  40.,  31.,  nan,  nan],\n",
       "       [148., 800.,  91.,  34.,  28.,  27.,  nan],\n",
       "       [146., 800.,  95.,  31.,  32.,  23.,   8.],\n",
       "       [145., 800.,  91.,  30.,  29.,  28.,  nan],\n",
       "       [145., 800.,  82.,  40.,  nan,  27.,  nan],\n",
       "       [145., 800.,  90.,  32.,  nan,  29.,  nan],\n",
       "       [143., 800.,  95.,  38.,  34.,  21.,   8.],\n",
       "       [141., 800.,  82.,  37.,  nan,  27.,  nan],\n",
       "       [140., 800.,  82.,  31.,  30.,  24.,   8.],\n",
       "       [140., 800.,  92.,  34.,  nan,  24.,  nan],\n",
       "       [137., 800.,  82.,  nan,  31.,  28.,   8.],\n",
       "       [137., 800.,  82.,  36.,  nan,  20.,  nan],\n",
       "       [137., 800.,  95.,  36.,  34.,  23.,   8.],\n",
       "       [136., 800.,  92.,  36.,  nan,  22.,  nan],\n",
       "       [135., 800.,  90.,  34.,  32.,  22.,   8.],\n",
       "       [134., 800.,  82.,  39.,  35.,  24.,   8.],\n",
       "       [133., 800.,  91.,  36.,  nan,  23.,  nan],\n",
       "       [131., 800.,  85.,  38.,  nan,  23.,  nan],\n",
       "       [131., 800.,  80.,  31.,  29.,  nan,  nan],\n",
       "       [130., 800.,  85.,  31.,  nan,  22.,  nan],\n",
       "       [130., 800.,  91.,  34.,  nan,  21.,  nan]])"
      ]
     },
     "execution_count": 5,
     "metadata": {},
     "output_type": "execute_result"
    }
   ],
   "source": [
    "prob1()"
   ]
  },
  {
   "cell_type": "markdown",
   "metadata": {
    "colab_type": "text",
    "id": "FcGE9Qq5scpv"
   },
   "source": [
    "# Problem 2"
   ]
  },
  {
   "cell_type": "code",
   "execution_count": 6,
   "metadata": {
    "colab": {},
    "colab_type": "code",
    "id": "bZIdjL74RuuO"
   },
   "outputs": [],
   "source": [
    "# Prob 2\n",
    "def prob2(file='budget.csv'):\n",
    "    \"\"\"\n",
    "    Read in file as DataFrame.\n",
    "    Fill all NaN values with 0.0.\n",
    "    Create two new columns, 'Living Expenses' and 'Other'. \n",
    "    Sum the columns 'Rent', 'Groceries', 'Gas' and 'Utilities' and set it as the value of 'Living Expenses'.\n",
    "    Sum the columns 'Dining Out', 'Out With Friends' and 'Netflix' and set as the value of 'Other'.\n",
    "    Identify which column, other than 'Living Expenses' correlates most with 'Living Expenses'\n",
    "    and which column other than 'Other' correlates most with 'Other'.\n",
    "\n",
    "    Return the names of each of those columns as a tuple.\n",
    "    The first should be of the column corresponding to \\li{'Living Expenses'} and the second to \\li{'Other'}.\n",
    "    \n",
    "    Parameters:\n",
    "        file (str): name of datafile\n",
    "        \n",
    "    Return:\n",
    "        values (tuple): (name of column that most relates to Living Expenses, name of column that most relates to Other)\n",
    "    \"\"\"\n",
    "    budget = pd.read_csv(file, index_col=0)      #read in the csv file with the index as column 0\n",
    "    budget = budget.fillna(0.0)\n",
    "    budget['Living Expenses'] = budget['Rent']+ budget['Groceries'] + budget['Gas'] + budget['Utilities']\n",
    "    budget['Other'] = budget['Dining Out'] + budget['Out With Friends'] + budget['Netflix']   #create the new columns as specified\n",
    "    corr_matrix = budget.corr()\n",
    "    corr_matrix = corr_matrix.to_numpy()    #create the correlation matrix and convert to numpy matrix for ease\n",
    "    le_data = corr_matrix[7]\n",
    "    args = np.argsort(le_data)\n",
    "    le_ind = args[len(le_data)-2]        #find the entries of second greatest value in the necessary rows\n",
    "\n",
    "    oth_data = corr_matrix[8]\n",
    "    args = np.argsort(oth_data)\n",
    "    oth_ind = args[len(oth_data)-2]\n",
    "    \n",
    "    return budget.columns[le_ind], budget.columns[oth_ind]\n",
    "    \n",
    "    "
   ]
  },
  {
   "cell_type": "code",
   "execution_count": 7,
   "metadata": {},
   "outputs": [
    {
     "data": {
      "text/plain": [
       "('Rent', 'Dining Out')"
      ]
     },
     "execution_count": 7,
     "metadata": {},
     "output_type": "execute_result"
    }
   ],
   "source": [
    "prob2()"
   ]
  },
  {
   "cell_type": "markdown",
   "metadata": {
    "colab_type": "text",
    "id": "qVHAwFRRseXh"
   },
   "source": [
    "# Problem 3"
   ]
  },
  {
   "cell_type": "code",
   "execution_count": 8,
   "metadata": {
    "colab": {},
    "colab_type": "code",
    "id": "35VAshdqZhVD"
   },
   "outputs": [],
   "source": [
    "def prob3(file='crime_data.csv'):\n",
    "    \"\"\"\n",
    "    Read in crime data and use pandas to answer the following questions.\n",
    "    \n",
    "    Set the index as the column 'Year', and return the answers to each question as a tuple.\n",
    "    \n",
    "    1) Identify the three crimes that have a mean over 1,500,000. \n",
    "    Of these three crimes, which two are very correlated? \n",
    "    Which of these two crimes has a greater maximum value?\n",
    "    Save the title of this column as a variable to return as the answer.\n",
    "    \n",
    "    2) Examine the data since 2000.\n",
    "    Sort this data (in ascending order) according to number of murders.\n",
    "    Find the years where Aggravated Assault is greater than 850,000.\n",
    "    Save the indices (the years) of the masked and reordered DataFrame as a NumPy array to return as the answer.\n",
    "    \n",
    "    3) What year had the highest crime rate? \n",
    "    In this year, which crime was committed the most? \n",
    "    What percentage of the total crime that year was it? \n",
    "    Save this value as a float.\n",
    "    \n",
    "    \n",
    "    Parameters:\n",
    "        file (str): data\n",
    "    \n",
    "    Return:\n",
    "        ans_1 (string): answer to Question 1\n",
    "        ans_2 (ndarray): answer to Question 2\n",
    "        ans_3 (float): answer to Question 3\n",
    "    \"\"\"\n",
    "    crime = pd.read_csv(file, index_col='Year')      #read in the csv file with the index as column 'Year'\n",
    "    \n",
    "    #Question 1\n",
    "    means = crime.iloc[:,2:].mean()\n",
    "    mask = means > 1500000            \n",
    "    mv = means[mask].index                        #find the crimes that have the higher rates       \n",
    "    \n",
    "    cust_corr = crime.iloc[:, 2:].corr()[mask].filter(items=list(mv), axis=1)    #exclude the total and population and create 3x3 correlation matrix\n",
    "    mask1 = cust_corr < 1\n",
    "    corr_list = cust_corr[mask1].idxmax().ravel()       #identify which are the most correlated\n",
    "    corr_set = set(corr_list)\n",
    "    corr_list = list(corr_set)            #create a set so that we are only left with 2\n",
    "    \n",
    "    max1 = crime.loc[:, corr_list[0]].max()\n",
    "    max2 = crime.loc[:, corr_list[1]].max()     #find out which crime has larger max\n",
    "    \n",
    "    if max1 > max2:\n",
    "        answer_1 = corr_list[0]\n",
    "    else:\n",
    "        answer_1 = corr_list[1]\n",
    "        \n",
    "    #Question 2\n",
    "    later = crime.iloc[40:, :]         #look at data from 2000 onward\n",
    "    later = later.sort_values('Murder', ascending=True)\n",
    "    mask2 = later['Aggravated Assault'] > 850000       #find when assault was higher\n",
    "    answer_2 = (later[mask2].index).to_numpy()         #mask the reordered dataframe\n",
    "    \n",
    "    #Question 3\n",
    "    crime['Crime Rate'] = crime['Total'] / crime['Population']    #create new column of crime rate\n",
    "    worst_year = crime_rate = crime['Crime Rate'].idxmax()        #find the worst crime year\n",
    "    worst_crime = crime.iloc[worst_year - 1960, 2:].max()\n",
    "    tot_crime = crime.iloc[worst_year - 1960, 1:].max()          #find the amount of property crime and total crime\n",
    "    answer_3 = worst_crime/tot_crime\n",
    "    \n",
    "    return answer_1, answer_2, answer_3\n",
    "    "
   ]
  },
  {
   "cell_type": "code",
   "execution_count": 9,
   "metadata": {},
   "outputs": [
    {
     "data": {
      "text/plain": [
       "('Property',\n",
       " array([2000, 2001, 2002, 2003, 2005, 2007, 2006]),\n",
       " 0.8997188308734142)"
      ]
     },
     "execution_count": 9,
     "metadata": {},
     "output_type": "execute_result"
    }
   ],
   "source": [
    "prob3()"
   ]
  },
  {
   "cell_type": "markdown",
   "metadata": {
    "colab_type": "text",
    "id": "4pfN6PbxsgC3"
   },
   "source": [
    "# Problem 4"
   ]
  },
  {
   "cell_type": "code",
   "execution_count": 10,
   "metadata": {
    "colab": {},
    "colab_type": "code",
    "id": "TAavKLA17LsN"
   },
   "outputs": [],
   "source": [
    "def prob4(file='DJIA.csv'):\n",
    "    \"\"\"\n",
    "\n",
    "    Read the data with a DatetimeIndex as the index.\n",
    "    Drop rows any rows without numerical values, cast the \"VALUE\" column to floats, then return the updated DataFrame.\n",
    "\n",
    "    Parameters:\n",
    "        file (str): data file\n",
    "    Returns:\n",
    "        df (DataFrame): updated DataFrame of stock market data\n",
    "    \"\"\"\n",
    "    dj_data = pd.read_csv(file, index_col ='DATE')  #read into a dataframe\n",
    "    dj_data.index = pd.to_datetime(dj_data.index)    #create Datetimeindex\n",
    "    dj_data = dj_data[pd.to_numeric(dj_data['VALUE'], errors='coerce').notnull()]    #get rid of non number rows\n",
    "    dj_data['VALUE'] = dj_data['VALUE'].astype(float)    #make value column into floats\n",
    "    return dj_data\n",
    "    "
   ]
  },
  {
   "cell_type": "code",
   "execution_count": 11,
   "metadata": {},
   "outputs": [
    {
     "data": {
      "text/html": [
       "<div>\n",
       "<style scoped>\n",
       "    .dataframe tbody tr th:only-of-type {\n",
       "        vertical-align: middle;\n",
       "    }\n",
       "\n",
       "    .dataframe tbody tr th {\n",
       "        vertical-align: top;\n",
       "    }\n",
       "\n",
       "    .dataframe thead th {\n",
       "        text-align: right;\n",
       "    }\n",
       "</style>\n",
       "<table border=\"1\" class=\"dataframe\">\n",
       "  <thead>\n",
       "    <tr style=\"text-align: right;\">\n",
       "      <th></th>\n",
       "      <th>VALUE</th>\n",
       "    </tr>\n",
       "    <tr>\n",
       "      <th>DATE</th>\n",
       "      <th></th>\n",
       "    </tr>\n",
       "  </thead>\n",
       "  <tbody>\n",
       "    <tr>\n",
       "      <th>2006-09-27</th>\n",
       "      <td>11689.24</td>\n",
       "    </tr>\n",
       "    <tr>\n",
       "      <th>2006-09-28</th>\n",
       "      <td>11718.45</td>\n",
       "    </tr>\n",
       "    <tr>\n",
       "      <th>2006-09-29</th>\n",
       "      <td>11679.07</td>\n",
       "    </tr>\n",
       "    <tr>\n",
       "      <th>2006-10-02</th>\n",
       "      <td>11670.35</td>\n",
       "    </tr>\n",
       "    <tr>\n",
       "      <th>2006-10-03</th>\n",
       "      <td>11727.34</td>\n",
       "    </tr>\n",
       "    <tr>\n",
       "      <th>...</th>\n",
       "      <td>...</td>\n",
       "    </tr>\n",
       "    <tr>\n",
       "      <th>2016-09-20</th>\n",
       "      <td>18129.96</td>\n",
       "    </tr>\n",
       "    <tr>\n",
       "      <th>2016-09-21</th>\n",
       "      <td>18293.70</td>\n",
       "    </tr>\n",
       "    <tr>\n",
       "      <th>2016-09-22</th>\n",
       "      <td>18392.46</td>\n",
       "    </tr>\n",
       "    <tr>\n",
       "      <th>2016-09-23</th>\n",
       "      <td>18261.45</td>\n",
       "    </tr>\n",
       "    <tr>\n",
       "      <th>2016-09-26</th>\n",
       "      <td>18094.83</td>\n",
       "    </tr>\n",
       "  </tbody>\n",
       "</table>\n",
       "<p>2517 rows × 1 columns</p>\n",
       "</div>"
      ],
      "text/plain": [
       "               VALUE\n",
       "DATE                \n",
       "2006-09-27  11689.24\n",
       "2006-09-28  11718.45\n",
       "2006-09-29  11679.07\n",
       "2006-10-02  11670.35\n",
       "2006-10-03  11727.34\n",
       "...              ...\n",
       "2016-09-20  18129.96\n",
       "2016-09-21  18293.70\n",
       "2016-09-22  18392.46\n",
       "2016-09-23  18261.45\n",
       "2016-09-26  18094.83\n",
       "\n",
       "[2517 rows x 1 columns]"
      ]
     },
     "execution_count": 11,
     "metadata": {},
     "output_type": "execute_result"
    }
   ],
   "source": [
    "prob4()\n"
   ]
  },
  {
   "cell_type": "markdown",
   "metadata": {
    "colab_type": "text",
    "id": "I663KesNsjMK"
   },
   "source": [
    "# Problem 5"
   ]
  },
  {
   "cell_type": "code",
   "execution_count": 12,
   "metadata": {},
   "outputs": [],
   "source": [
    "def prob5(file='paychecks.csv'):\n",
    "    \"\"\"\n",
    "\n",
    "    Create data_range for index of paycheck data.\n",
    "\n",
    "    Parameters:\n",
    "        file (str): data file\n",
    "    Returns:\n",
    "        df (DataFrame): DataFrame of paycheck data\n",
    "    \"\"\"\n",
    "    pc_data = pd.read_csv(file, names=['Value'])     #read in the data from csv\n",
    "    pc_data.index = pd.date_range(start='3/13/2008', periods=93, freq='2W-FRI')   #create date range as index\n",
    "    return (pc_data)\n",
    "    "
   ]
  },
  {
   "cell_type": "code",
   "execution_count": 13,
   "metadata": {},
   "outputs": [
    {
     "data": {
      "text/html": [
       "<div>\n",
       "<style scoped>\n",
       "    .dataframe tbody tr th:only-of-type {\n",
       "        vertical-align: middle;\n",
       "    }\n",
       "\n",
       "    .dataframe tbody tr th {\n",
       "        vertical-align: top;\n",
       "    }\n",
       "\n",
       "    .dataframe thead th {\n",
       "        text-align: right;\n",
       "    }\n",
       "</style>\n",
       "<table border=\"1\" class=\"dataframe\">\n",
       "  <thead>\n",
       "    <tr style=\"text-align: right;\">\n",
       "      <th></th>\n",
       "      <th>Value</th>\n",
       "    </tr>\n",
       "  </thead>\n",
       "  <tbody>\n",
       "    <tr>\n",
       "      <th>2008-03-14</th>\n",
       "      <td>1122.26</td>\n",
       "    </tr>\n",
       "    <tr>\n",
       "      <th>2008-03-28</th>\n",
       "      <td>921.03</td>\n",
       "    </tr>\n",
       "    <tr>\n",
       "      <th>2008-04-11</th>\n",
       "      <td>962.46</td>\n",
       "    </tr>\n",
       "    <tr>\n",
       "      <th>2008-04-25</th>\n",
       "      <td>1035.97</td>\n",
       "    </tr>\n",
       "    <tr>\n",
       "      <th>2008-05-09</th>\n",
       "      <td>1078.59</td>\n",
       "    </tr>\n",
       "    <tr>\n",
       "      <th>...</th>\n",
       "      <td>...</td>\n",
       "    </tr>\n",
       "    <tr>\n",
       "      <th>2011-07-29</th>\n",
       "      <td>1095.53</td>\n",
       "    </tr>\n",
       "    <tr>\n",
       "      <th>2011-08-12</th>\n",
       "      <td>1018.39</td>\n",
       "    </tr>\n",
       "    <tr>\n",
       "      <th>2011-08-26</th>\n",
       "      <td>1027.08</td>\n",
       "    </tr>\n",
       "    <tr>\n",
       "      <th>2011-09-09</th>\n",
       "      <td>1005.90</td>\n",
       "    </tr>\n",
       "    <tr>\n",
       "      <th>2011-09-23</th>\n",
       "      <td>963.29</td>\n",
       "    </tr>\n",
       "  </tbody>\n",
       "</table>\n",
       "<p>93 rows × 1 columns</p>\n",
       "</div>"
      ],
      "text/plain": [
       "              Value\n",
       "2008-03-14  1122.26\n",
       "2008-03-28   921.03\n",
       "2008-04-11   962.46\n",
       "2008-04-25  1035.97\n",
       "2008-05-09  1078.59\n",
       "...             ...\n",
       "2011-07-29  1095.53\n",
       "2011-08-12  1018.39\n",
       "2011-08-26  1027.08\n",
       "2011-09-09  1005.90\n",
       "2011-09-23   963.29\n",
       "\n",
       "[93 rows x 1 columns]"
      ]
     },
     "execution_count": 13,
     "metadata": {},
     "output_type": "execute_result"
    }
   ],
   "source": [
    "prob5()"
   ]
  },
  {
   "cell_type": "markdown",
   "metadata": {
    "colab_type": "text",
    "id": "I663KesNsjMK"
   },
   "source": [
    "# Problem 6"
   ]
  },
  {
   "cell_type": "code",
   "execution_count": 14,
   "metadata": {
    "colab": {},
    "colab_type": "code",
    "id": "KGxh0mpSDLDD"
   },
   "outputs": [],
   "source": [
    "def prob6(file='DJIA.csv'):\n",
    "    \"\"\"\n",
    "    Compute the following information about the DJIA dataset\n",
    "    1. The single day with the largest gain\n",
    "    2. The single day with the largest loss\n",
    "\n",
    "    Parameters:\n",
    "        file (str): data file\n",
    "    Returns:\n",
    "        max_day (<M8[ns]): DateTimeIndex of maximum change\n",
    "        min_day (<M8[ns]): DateTimeIndex of minimum change\n",
    "    \"\"\"\n",
    "    data = prob4()       #get our data from problem 4\n",
    "    shifted_data = data.shift(1)\n",
    "    difference = data - shifted_data   #create a dataframe of shifted data and subtract from original to get differences\n",
    "    col = difference['VALUE']     #create series and find max and min\n",
    "    max = col.idxmax()\n",
    "    min = col.idxmin()\n",
    "    \n",
    "    return max, min"
   ]
  },
  {
   "cell_type": "code",
   "execution_count": 15,
   "metadata": {},
   "outputs": [
    {
     "data": {
      "text/plain": [
       "(Timestamp('2008-10-13 00:00:00'), Timestamp('2008-09-29 00:00:00'))"
      ]
     },
     "execution_count": 15,
     "metadata": {},
     "output_type": "execute_result"
    }
   ],
   "source": [
    "prob6()"
   ]
  }
 ],
 "metadata": {
  "colab": {
   "collapsed_sections": [],
   "name": "pandas1.ipynb",
   "provenance": [],
   "version": "0.3.2"
  },
  "kernelspec": {
   "display_name": "Python 3 (ipykernel)",
   "language": "python",
   "name": "python3"
  },
  "language_info": {
   "codemirror_mode": {
    "name": "ipython",
    "version": 3
   },
   "file_extension": ".py",
   "mimetype": "text/x-python",
   "name": "python",
   "nbconvert_exporter": "python",
   "pygments_lexer": "ipython3",
   "version": "3.10.5"
  }
 },
 "nbformat": 4,
 "nbformat_minor": 1
}
