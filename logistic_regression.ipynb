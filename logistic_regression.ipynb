{
 "cells": [
  {
   "cell_type": "markdown",
   "metadata": {},
   "source": [
    "# Logistic Regression\n",
    "\n",
    "## Maxwell Nielsen\n",
    "\n",
    "## Section 001\n",
    "\n",
    "## 11/14/2022"
   ]
  },
  {
   "cell_type": "code",
   "execution_count": 19,
   "metadata": {},
   "outputs": [],
   "source": [
    "import numpy as np\n",
    "from scipy.optimize import minimize\n",
    "from sklearn.linear_model import LogisticRegression\n",
    "from sklearn import datasets\n",
    "from sklearn.model_selection import train_test_split\n",
    "from sklearn.metrics import accuracy_score\n",
    "import pandas as pd\n",
    "import statsmodels.api as sm\n",
    "import time\n",
    "from matplotlib import pyplot as plt"
   ]
  },
  {
   "cell_type": "markdown",
   "metadata": {},
   "source": [
    "## Problem 1\n",
    "\n",
    "Create a classifier called `LogiReg` that accepts an $(n \\times 1)$ array $y$ of binary labels ($0$'s and $1$'s) as well as an $(n \\times d)$ array $X$ of data points. Write a `fit()` method that finds and saves the optimal $\\widehat{\\boldsymbol{\\beta}}$.\n",
    "\n",
    "## Problem 2\n",
    "\n",
    "Write a method called `predict_prob()` that accepts an $(n \\times d)$ array $x\\_test$ and returns $P(Y=1 | x\\_test)$. Also write a method called `predict()` that calls `predict_prob()` and returns an array of predicted labels ($0$'s or $1$'s) for the given array $x\\_test$."
   ]
  },
  {
   "cell_type": "code",
   "execution_count": 35,
   "metadata": {},
   "outputs": [],
   "source": [
    "class LogiReg():\n",
    "    \"\"\" input:\n",
    "        y: nparray(n, 1) taking values only in {0,1}\n",
    "        X: nparray(n, d)\n",
    "    \"\"\"\n",
    "    \n",
    "    def __init__(self, y, X):\n",
    "        \"\"\"\n",
    "        Save y and X as attributes.\n",
    "        \"\"\"\n",
    "        self.n = X.shape[0]       #save the number of rows in X\n",
    "        self.y = y\n",
    "        self.X = np.column_stack((np.ones(self.n),X))           #add a constant column to X\n",
    "        self.d = self.X.shape[1]\n",
    "    \n",
    "    \n",
    "    def fit(self):\n",
    "        \"\"\"\n",
    "        Updates beta, the coefficient array of shape (d, 1) that\n",
    "        minimizes the negative log likelihood for the given data \n",
    "        with the model p(y|x) = sigm(x^T @ beta).      \n",
    "        \"\"\"\n",
    "        #define the likelihood function\n",
    "        likeli = lambda b: np.sum([self.y[i]*np.log(1+np.exp(-self.X[i]@b)) + (1-self.y[i])*np.log(1+np.exp(self.X[i]@b)) for i in range(self.n)])\n",
    "        #use scipy to minimize the negative log of the likelihood function\n",
    "        best_b = minimize(likeli, np.ones(self.d)).x\n",
    "        self.beta = best_b\n",
    "        \n",
    "\n",
    "        \n",
    "    def predict_prob(self, x_test):\n",
    "        \"\"\"\n",
    "        Returns the predicted probability of an input x_test.\n",
    "        If x_test has shape (p, q), then the predicted probability\n",
    "        has shape (1, q).\n",
    "        \"\"\" \n",
    "        #add a constant column to the test matrix\n",
    "        x_test = np.column_stack((np.ones(len(x_test)),x_test))\n",
    "        #define the sigmoid function\n",
    "        sigmoid = lambda x: 1/(1+np.exp(-x@self.beta))\n",
    "        #determine the probability of each instance being 1\n",
    "        return sigmoid(x_test)\n",
    "        \n",
    "        \n",
    "    def predict(self, x_test):\n",
    "        \"\"\"\n",
    "        Returns the predicted classification (1 or 0) of x_test.\n",
    "        If x_test has shape (p, q), then the predicted classification\n",
    "        has shape (1, q).\n",
    "        \"\"\"  \n",
    "        #call our predict method\n",
    "        x_res = self.predict_prob(x_test)\n",
    "        decision = np.zeros_like(x_res)\n",
    "        #make an array of predicted labels based upon the probablities\n",
    "        decision[x_res>=1/2] = 1\n",
    "        return decision"
   ]
  },
  {
   "cell_type": "markdown",
   "metadata": {},
   "source": [
    "## Problem 3\n",
    "\n",
    "Test your classifier from the previous two problems using arrays $X$, $y$, and $X\\_test$. Train your classifier on $X$ and $y$. Then generate a list of predicted labels using your trained classifier and $X\\_test$, and use it to plot $X\\_test$ with a different color for each predicted label."
   ]
  },
  {
   "cell_type": "code",
   "execution_count": 42,
   "metadata": {},
   "outputs": [
    {
     "data": {
      "image/png": "[encoded data removed]",
      "text/plain": [
       "<Figure size 1080x432 with 2 Axes>"
      ]
     },
     "metadata": {
      "needs_background": "light"
     },
     "output_type": "display_data"
    }
   ],
   "source": [
    "data = np.column_stack(( \n",
    "    np.concatenate(( \n",
    "        # draw from 2 2-dim. multivariate normal dists.\n",
    "        np.random.multivariate_normal(np.array([1,2]), np.eye(2), 100),\n",
    "        np.random.multivariate_normal(np.array([4,3]), np.eye(2), 100) )), \n",
    "    # labels corresonding to each distribution\n",
    "    np.concatenate(( np.zeros(100), np.ones(100) )) ))\n",
    "np.random.shuffle(data)\n",
    "# extract X and y from the shuffled data\n",
    "X = data[:,:2]\n",
    "y = data[:,2].astype(int)\n",
    "\n",
    "X_test = np.concatenate(( \n",
    "    # draw from 2 identical 2-dim. multivariate normal dists.\n",
    "    np.random.multivariate_normal(np.array([1,2]), np.eye(2), 100),\n",
    "    np.random.multivariate_normal(np.array([4,3]), np.eye(2), 100) ))\n",
    "np.random.shuffle(X_test)\n",
    "\n",
    "plt.figure(figsize=((15,6)))\n",
    "#create an object belonging to our logireg class\n",
    "log_reg = LogiReg(y=y, X=X)\n",
    "#fit the data to our model\n",
    "log_reg.fit()\n",
    "#predict the test set labels\n",
    "predictions = log_reg.predict(X_test)\n",
    "\n",
    "#observe the labels\n",
    "ones_train = y == 1\n",
    "zeros_train = y == 0\n",
    "\n",
    "ones_predict = predictions == 1\n",
    "zeros_predict = predictions == 0\n",
    "\n",
    "#graph the labels of the original data\n",
    "plt.subplot(121)\n",
    "plt.scatter(X[:,0][ones_train], X[:,1][ones_train],color='red')\n",
    "plt.scatter(X[:,0][zeros_train], X[:,1][zeros_train],color='blue')\n",
    "plt.title('Original Data')\n",
    "\n",
    "#graph the labels of the predicted data\n",
    "plt.subplot(122)\n",
    "plt.scatter(X_test[:,0][ones_predict], X_test[:,1][ones_predict],color='red')\n",
    "plt.scatter(X_test[:,0][zeros_predict], X_test[:,1][zeros_predict],color='blue')\n",
    "plt.title('New Data with LogiReg')\n",
    "\n",
    "plt.show()"
   ]
  },
  {
   "cell_type": "markdown",
   "metadata": {},
   "source": [
    "## Problem 4\n",
    "\n",
    "Using each of `LogiReg`, `statsmodels`, and `sklearn`, train a logistic regression classifier on $X$ and $y$ to generate a list of predicted labels for $X\\_test$. Then, using $y\\_test$, print the accuracy scores for each trained model. Compare the accuracies and training/testing time for all three classifiers. Be sure to add a constant feature with each model."
   ]
  },
  {
   "cell_type": "code",
   "execution_count": 55,
   "metadata": {
    "scrolled": true
   },
   "outputs": [
    {
     "name": "stdout",
     "output_type": "stream",
     "text": [
      "LogiReg Accuracy: 0.945 LogiReg Time: 0.6358852386474609\n",
      "StatsModels Accuracy: 0.935 StatsModels Time: 0.006706953048706055\n",
      "Sklearn Accuracy: 0.92 Sklearn Time: 0.0014450550079345703\n"
     ]
    },
    {
     "name": "stderr",
     "output_type": "stream",
     "text": [
      "/Library/Frameworks/Python.framework/Versions/3.10/lib/python3.10/site-packages/statsmodels/discrete/discrete_model.py:1819: RuntimeWarning: overflow encountered in exp\n",
      "  return 1/(1+np.exp(-X))\n"
     ]
    }
   ],
   "source": [
    "# predefine the true beta\n",
    "beta = np.random.normal(0, 7, 20)\n",
    "\n",
    "# X is generated from 2 20-dim. multivariate normal dists.\n",
    "X = np.concatenate(( \n",
    "        np.random.multivariate_normal(np.zeros(20), np.eye(20), 100), \n",
    "        np.random.multivariate_normal(np.ones(20)*2, np.eye(20), 100) ))\n",
    "np.random.shuffle(X)\n",
    "# create y based on the true beta\n",
    "pred = 1. / (1. + np.exp(-X @ beta))  \n",
    "y = np.array( [1 if pred[i] >= 1/2 else 0 \n",
    "            for i in range(pred.shape[0])] )\n",
    "\n",
    "# X_test and y_test are generated similar to X and y\n",
    "X_test = np.concatenate(( \n",
    "        np.random.multivariate_normal(np.zeros(20), np.eye(20), 100), \n",
    "        np.random.multivariate_normal(np.ones(20), np.eye(20), 100) ))\n",
    "np.random.shuffle(X_test)\n",
    "pred = 1. / (1. + np.exp(-X_test @ beta))\n",
    "y_test = np.array( [1 if pred[i] >= 1/2 else 0 \n",
    "            for i in range(pred.shape[0])] )\n",
    "\n",
    "#fit and predict using LogiReg\n",
    "start = time.time()\n",
    "log_reg = LogiReg(y=y, X=X)\n",
    "log_reg.fit()\n",
    "predictions = log_reg.predict(X_test)\n",
    "logireg_ac = accuracy_score(y_test, predictions)\n",
    "ex_time = time.time()-start\n",
    "print('LogiReg Accuracy:', logireg_ac, 'LogiReg Time:', ex_time)\n",
    "\n",
    "#fit and predict using Statsmodels\n",
    "start = time.time()\n",
    "sm_model = sm.Logit(y, sm.add_constant(X)).fit_regularized(disp=0)  # setting disp=0 turns off printed info\n",
    "probs = sm_model.predict(sm.add_constant(X_test))  # list of probabilities, not labels\n",
    "decision = np.zeros_like(probs)\n",
    "decision[probs>=1/2] = 1\n",
    "statsmodels_ac = accuracy_score(y_test, decision)\n",
    "ex_time = time.time()-start\n",
    "print('StatsModels Accuracy:', statsmodels_ac, 'StatsModels Time:', ex_time)\n",
    "\n",
    "#fit and predict using Sklearn\n",
    "start = time.time()\n",
    "model = LogisticRegression(fit_intercept=True).fit(X, y)  # X before y\n",
    "sklearn_ac = model.score(X_test, y_test)\n",
    "ex_time = time.time()-start\n",
    "print('Sklearn Accuracy:', sklearn_ac, 'Sklearn Time:', ex_time)"
   ]
  },
  {
   "cell_type": "markdown",
   "metadata": {},
   "source": [
    "## Problem 5\n",
    "\n",
    "Import the Iris Dataset and perform a train-test split on only the first two columns of the data with `test_size=0.4`. Train a multinomial logistic regression model using the training data with an added constant feature, and generate prediction labels for the test data.\n",
    "\n",
    "Plot the test data by color using your prediction labels."
   ]
  },
  {
   "cell_type": "code",
   "execution_count": 83,
   "metadata": {},
   "outputs": [
    {
     "data": {
      "image/png": "[encoded data removed]",
      "text/plain": [
       "<Figure size 1080x432 with 2 Axes>"
      ]
     },
     "metadata": {
      "needs_background": "light"
     },
     "output_type": "display_data"
    }
   ],
   "source": [
    "plt.figure(figsize=((15,6)))\n",
    "#load in the data\n",
    "iris_data = datasets.load_iris()\n",
    "X = iris_data['data']\n",
    "y = iris_data['target']\n",
    "\n",
    "#train-test split on the first two columns of data with test_size=.4\n",
    "X_train, X_test, y_train, y_test = train_test_split(X[:,:2],y,test_size=.4)\n",
    "\n",
    "#train the multinomial model\n",
    "model = LogisticRegression(multi_class='multinomial',fit_intercept=True).fit(X_train, y_train) # add constant feature\n",
    "#use our model to predict the labels of x test\n",
    "predictions = model.predict(X_test)\n",
    "\n",
    "#observe the labels for the actual and predicted data\n",
    "twos_test = y_test == 2\n",
    "ones_test = y_test == 1\n",
    "zeros_test = y_test == 0\n",
    "\n",
    "twos_pred = predictions == 2\n",
    "ones_pred = predictions == 1\n",
    "zeros_pred = predictions == 0\n",
    "\n",
    "#plot the labels of the actual data\n",
    "plt.subplot(121)\n",
    "plt.scatter(X_test[:,0][twos_test], X_test[:,1][twos_test],color='green')\n",
    "plt.scatter(X_test[:,0][ones_test], X_test[:,1][ones_test],color='red')\n",
    "plt.scatter(X_test[:,0][zeros_test], X_test[:,1][zeros_test],color='blue')\n",
    "plt.xlabel('Sepal Length')\n",
    "plt.ylabel('Sepal Width')\n",
    "plt.title('Actual X_test Data')\n",
    "\n",
    "#plot the labels of the predicted data\n",
    "plt.subplot(122)\n",
    "plt.scatter(X_test[:,0][twos_pred], X_test[:,1][twos_pred],color='green')\n",
    "plt.scatter(X_test[:,0][ones_pred], X_test[:,1][ones_pred],color='red')\n",
    "plt.scatter(X_test[:,0][zeros_pred], X_test[:,1][zeros_pred],color='blue')\n",
    "plt.xlabel('Sepal Length')\n",
    "plt.ylabel('Sepal Width')\n",
    "plt.title('Predicted X_test Data')\n",
    "plt.show()"
   ]
  }
 ],
 "metadata": {
  "kernelspec": {
   "display_name": "Python 3 (ipykernel)",
   "language": "python",
   "name": "python3"
  },
  "language_info": {
   "codemirror_mode": {
    "name": "ipython",
    "version": 3
   },
   "file_extension": ".py",
   "mimetype": "text/x-python",
   "name": "python",
   "nbconvert_exporter": "python",
   "pygments_lexer": "ipython3",
   "version": "3.10.5"
  }
 },
 "nbformat": 4,
 "nbformat_minor": 2
}
